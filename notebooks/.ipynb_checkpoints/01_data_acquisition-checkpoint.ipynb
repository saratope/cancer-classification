{
 "cells": [
  {
   "cell_type": "code",
   "execution_count": null,
   "id": "893961de",
   "metadata": {},
   "outputs": [],
   "source": [
    "import GEOparse\n",
    "import pandas as pd"
   ]
  },
  {
   "cell_type": "code",
   "execution_count": null,
   "id": "3f5afd59",
   "metadata": {},
   "outputs": [],
   "source": [
    "#Get GEO\n",
    "gse = GEOparse.get_GEO(\"GSE45827\", destdir=\"data/\", silent=FALSE)"
   ]
  },
  {
   "cell_type": "code",
   "execution_count": null,
   "id": "335f8781",
   "metadata": {},
   "outputs": [],
   "source": [
    "#View metadata\n",
    "print(gse.)"
   ]
  }
 ],
 "metadata": {
  "jupytext": {
   "cell_metadata_filter": "-all",
   "main_language": "python",
   "notebook_metadata_filter": "-all"
  }
 },
 "nbformat": 4,
 "nbformat_minor": 5
}
