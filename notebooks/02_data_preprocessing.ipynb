{
 "cells": [
  {
   "cell_type": "code",
   "execution_count": 39,
   "id": "3c1b8e1e",
   "metadata": {},
   "outputs": [],
   "source": [
    "# All rows displayed\n",
    "pd.set_option(\"display.max_rows\", None)\n",
    "pd.set_option('display.max_colwidth', None)"
   ]
  },
  {
   "cell_type": "code",
   "execution_count": null,
   "id": "f647f722",
   "metadata": {},
   "outputs": [],
   "source": [
    "#Load the CSV files\n",
    "import pandas as pd\n",
    "\n",
    "expr = pd.read_csv(\"../data/raw_expression_matrix.csv\", index_col=0)\n",
    "meta = pd.read_csv(\"../data/sample_metadata.csv\", index_col=0)"
   ]
  },
  {
   "cell_type": "code",
   "execution_count": 3,
   "id": "1028b396",
   "metadata": {},
   "outputs": [
    {
     "name": "stderr",
     "output_type": "stream",
     "text": [
      "/Users/Sara/Library/CloudStorage/OneDrive-GeneWeaver/cancer-classification/env/lib/python3.13/site-packages/pandas/core/internals/blocks.py:395: RuntimeWarning: invalid value encountered in log2\n",
      "  result = func(self.values, **kwargs)\n"
     ]
    }
   ],
   "source": [
    "#Log2 transform the expression data\n",
    "import numpy as np\n",
    "expr = np.log2(expr + 1)"
   ]
  },
  {
   "cell_type": "code",
   "execution_count": null,
   "id": "0fb76831",
   "metadata": {},
   "outputs": [],
   "source": [
    "#Filter low-variance genes\n",
    "from sklearn.feature_selection import VarianceThreshold\n",
    "selector = VarianceThreshold(threshold=0.5)  # you can adjust this\n",
    "filtered_expr = selector.fit_transform(expr.T).T"
   ]
  },
  {
   "cell_type": "code",
   "execution_count": 41,
   "id": "7d1ac64a",
   "metadata": {},
   "outputs": [],
   "source": [
    "labels = meta[\"characteristics_ch1\"].apply(lambda x: 1 if isinstance(x, str) and \"breast cancer\" in x.lower() else 0)"
   ]
  },
  {
   "cell_type": "code",
   "execution_count": null,
   "id": "9bb200cf",
   "metadata": {},
   "outputs": [],
   "source": [
    "#Extract and encode labels (For tissue: disease and normal, and for cells: cancer and normal)\n",
    "labels = meta[\"characteristics_ch1\"].apply(lambda x: 1 if isinstance(x, str) and \"breast cancer\" in x.lower() else 0)"
   ]
  },
  {
   "cell_type": "code",
   "execution_count": null,
   "id": "e7b47dde",
   "metadata": {},
   "outputs": [],
   "source": [
    "#Extract and encode labels (For tissue: disease (0) and normal (1), and for cells: cancer (2) and normal (\"3\"))\n",
    "#The values in characteristics_ch1 are strings not python lists\n",
    "labels = meta[\"characteristics_ch1\"].apply(\n",
    "    lambda x: 1 if isinstance(x, str) and \"normal\" in x.lower()\n",
    "    else 2 if isinstance(x, str) and \"breast carcinoma\" in x.lower()\n",
    "    else 3 if isinstance(x, str) and \"breast mammary gland\" in x.lower()\n",
    "    else 0\n",
    ")"
   ]
  },
  {
   "cell_type": "code",
   "execution_count": 60,
   "id": "950fd098",
   "metadata": {},
   "outputs": [],
   "source": [
    "#Split into train/test sets\n",
    "from sklearn.model_selection import train_test_split\n",
    "X_train, X_test, y_train, y_test = train_test_split(filtered_expr.T, labels, test_size=0.2, random_state=42)"
   ]
  },
  {
   "cell_type": "code",
   "execution_count": 62,
   "id": "03146959",
   "metadata": {},
   "outputs": [],
   "source": [
    "#Save processed data\n",
    "pd.DataFrame(X_train).to_csv(\"../data/X_train.csv\", index=False)\n",
    "pd.DataFrame(X_test).to_csv(\"../data/X_test.csv\", index=False)\n",
    "y_train.to_csv(\"../data/y_train.csv\")\n",
    "y_test.to_csv(\"../data/y_test.csv\")"
   ]
  }
 ],
 "metadata": {
  "kernelspec": {
   "display_name": "env (3.13.4)",
   "language": "python",
   "name": "python3"
  },
  "language_info": {
   "codemirror_mode": {
    "name": "ipython",
    "version": 3
   },
   "file_extension": ".py",
   "mimetype": "text/x-python",
   "name": "python",
   "nbconvert_exporter": "python",
   "pygments_lexer": "ipython3",
   "version": "3.13.4"
  }
 },
 "nbformat": 4,
 "nbformat_minor": 5
}
