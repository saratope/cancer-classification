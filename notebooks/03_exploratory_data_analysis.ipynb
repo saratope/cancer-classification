{
 "cells": [
  {
   "cell_type": "code",
   "execution_count": 29,
   "id": "30349943",
   "metadata": {},
   "outputs": [],
   "source": [
    "import pandas as pd\n",
    "import numpy as np\n",
    "from sklearn.decomposition import PCA\n",
    "from sklearn.preprocessing import StandardScaler\n",
    "from sklearn.impute import SimpleImputer\n",
    "from sklearn.cluster import KMeans\n",
    "import plotly.express as px\n",
    "import matplotlib.pyplot as plt\n",
    "import umap\n",
    "import seaborn as sns\n"
   ]
  },
  {
   "cell_type": "code",
   "execution_count": 30,
   "id": "bccd9c86",
   "metadata": {},
   "outputs": [],
   "source": [
    "#Load the data\n",
    "\n",
    "X_train = pd.read_csv(\"../data/X_train.csv\")\n",
    "y_train = pd.read_csv(\"../data/y_train.csv\")"
   ]
  },
  {
   "cell_type": "code",
   "execution_count": null,
   "id": "3cae3d58",
   "metadata": {},
   "outputs": [],
   "source": [
    "#Scale data and remove NaNs\n",
    "X_scaled = StandardScaler().fit_transform(X_train)\n",
    "\n",
    "# Impute NaNs in X_scaled using column means\n",
    "if np.isnan(X_scaled).any():\n",
    "    imputer = SimpleImputer(strategy='mean')\n",
    "    X_scaled_imputed = imputer.fit_transform(X_scaled)\n",
    "else:\n",
    "    X_scaled_imputed = X_scaled"
   ]
  },
  {
   "cell_type": "code",
   "execution_count": 32,
   "id": "2fbe74a6",
   "metadata": {},
   "outputs": [
    {
     "data": {
      "application/vnd.plotly.v1+json": {
       "config": {
        "plotlyServerURL": "https://plot.ly"
       },
       "data": [
        {
         "hovertemplate": "<b>%{hovertext}</b><br><br>PC1=%{x}<br>PC2=%{y}<br>Label=%{marker.color}<extra></extra>",
         "hovertext": {
          "bdata": "AAAAAAAAGEAAAAAAAAAYQAAAAAAAAAhAAAAAAAAACEAAAAAAAAAQQAAAAAAAABRAAAAAAAAA8D8AAAAAAAAYQAAAAAAAAPA/AAAAAAAAGEAAAAAAAAAIQAAAAAAAABhAAAAAAAAACEAAAAAAAADwPwAAAAAAAAAAAAAAAAAAEEAAAAAAAAAUQAAAAAAAAAAAAAAAAAAACEAAAAAAAAAQQAAAAAAAAAhAAAAAAAAACEAAAAAAAAAAQAAAAAAAABBAAAAAAAAAGEAAAAAAAAAIQAAAAAAAABRAAAAAAAAAEEAAAAAAAAAUQAAAAAAAAPA/AAAAAAAACEAAAAAAAAAIQAAAAAAAAAhAAAAAAAAAGEAAAAAAAAAIQAAAAAAAAAAAAAAAAAAAEEAAAAAAAAAIQAAAAAAAABBAAAAAAAAA8D8AAAAAAAAYQAAAAAAAAAhAAAAAAAAAFEAAAAAAAAAQQAAAAAAAAAhAAAAAAAAAFEAAAAAAAAAQQAAAAAAAAABAAAAAAAAAFEAAAAAAAAAIQAAAAAAAABRAAAAAAAAAFEAAAAAAAAAYQAAAAAAAABBAAAAAAAAAFEAAAAAAAAAUQAAAAAAAABBAAAAAAAAAEEAAAAAAAADwPwAAAAAAABBAAAAAAAAAGEAAAAAAAAAUQAAAAAAAAAhAAAAAAAAAFEAAAAAAAAAAAAAAAAAAAAhAAAAAAAAA8D8AAAAAAAAYQAAAAAAAABBAAAAAAAAAFEAAAAAAAAAYQAAAAAAAABhAAAAAAAAAGEAAAAAAAAAIQAAAAAAAABhAAAAAAAAACEAAAAAAAAAIQAAAAAAAABRAAAAAAAAAAAAAAAAAAAAYQAAAAAAAABBAAAAAAAAAEEAAAAAAAAAAAAAAAAAAABBAAAAAAAAAFEAAAAAAAAAIQAAAAAAAAAAAAAAAAAAAFEAAAAAAAAAUQAAAAAAAABBAAAAAAAAAFEAAAAAAAAAIQAAAAAAAABRAAAAAAAAACEAAAAAAAAAYQAAAAAAAABhAAAAAAAAAAAAAAAAAAAAQQAAAAAAAABBAAAAAAAAACEAAAAAAAAAIQAAAAAAAABBAAAAAAAAACEAAAAAAAAAUQAAAAAAAABBAAAAAAAAAEEAAAAAAAAAIQAAAAAAAAPA/AAAAAAAACEAAAAAAAAAIQAAAAAAAAAhAAAAAAAAA8D8AAAAAAAAYQAAAAAAAABhAAAAAAAAACEAAAAAAAAAYQAAAAAAAABRAAAAAAAAAAAAAAAAAAAAYQAAAAAAAAAhAAAAAAAAAGEAAAAAAAAAYQAAAAAAAABRAAAAAAAAAEEA=",
          "dtype": "f8"
         },
         "legendgroup": "",
         "marker": {
          "color": {
           "bdata": "BgYDAwQFAQYBBgMGAwEABAUAAwQDAwIEBgMFBAUBAwMDBgMABAMEAQYDBQQDBQQCBQMFBQYEBQUEBAEEBgUDBQADAQYEBQYGBgMGAwMFAAYEBAAEBQMABQUEBQMFAwYGAAQEAwMEAwUEBAMBAwMDAQYGAwYFAAYDBgYFBA==",
           "dtype": "i1"
          },
          "coloraxis": "coloraxis",
          "symbol": "circle"
         },
         "mode": "markers",
         "name": "",
         "orientation": "v",
         "showlegend": false,
         "type": "scatter",
         "x": {
          "bdata": "ExathYu+EUBIFPtnw04CQBfDugTtgRvA3yYwy+xdH8DNVOL8rjT/P13FxexxjxZA1YGgK7DlHMBDomVWUfYAQJZ0rz64LBvA3GG7D9z2CkAJI7oU1b0ewFYZ69rOrRlAG8NyQWYzIMAmx3R5COIZwLGEt4pGDRRAfNn+rQuUB0AN2Ze6SxMQQCkwy/ap3RNAEUJrUGeEIsDIMD3CrHYQQGWSylr4GyLAtm6FX1s1F8CLuqXaJYMawNZxRiYUigFAHl/cu1kXBUBcDVfuCBEWwPeAltehPB1AbW60l12y8D/egK7M24ofQJHFDktsRB3Ahh0JY/OXIcAgIgZgkPohwM9bxnTZhiHAjew7n7wTEkCKFX35IxsdwPvJYFx01fg/dQH6/X8bDkAvt+b73g8VwMNq1dNsS/4/0VtB08TYIcB1eZ9z0+4RQCHOtP52xxDAoea54FRzGkCIPKWdZx8VwGn7JhJJIxTAeGi3E3VzE0C6PxzVS0/wP21Mb/M7GhfACKgFlFRiHUDtBJeSmnQewJEvFKE4GxRANHgfbfLcEkCTf0S2i5MQQH0hq65VjQpAFkCNNhpTG0Ce3UAMbOMXQHkMd0qCdA1AJEmr+EtX9D/HUYW6Q30gwLuDCiufHg9AxmuRW6A8EEAL8hvCXDgXQFmhXtmgYBDAxLNHaP+TGUCjXf+H33QEQEdLEc+ZgB/AgPR0qiP2HsDZTW7BFFQTQPeiYlsatAlAaoqhbp/OFkBJHXtiLJcQQLrlU5g54vg/Ls9zRUU+FUBxSI7KJx0ewJHDM1ufugRAPhltWdB4IMBhmPpgNbAiwArHShN2cxtAcf0mvvLR5r/PK8N1RrMUQIJUMCdSqfA/MW2sXvhTB0DDEs/S+8UJQJcMicZHAQ5AzgpXpPYeFkADrP41fdMXwHiJ5ZreKw1Akf2XpAiCHEBCdJSkHXcUQGCM075Y5xNAltAXe0PrGEBu5/PumCEbwCE2jazG8hxAE8aD6lijIMCS9jzGNzcRQCFp2raPfhNAWhhL8abV6D+CoM1CgZwIQI55keCXI7O/kVzyrbxd3r+dNLafmuMdwFULBbUGLQFAdzhv1yDe2b8dtz0Wud4YQNMhxOSDXAVAGmBhc+tDGsDkZQTHWbohwCoKeVnViBjAxg32FNw4EMDWtCM4QOAhwEqElH/LdCLANYR9m2NSGsCtr+/6U5sSQNYo4YinFxdA8Z/9KxL7JMBN9K83g10WQBbFa76GeBVAEPF76mUMBED5hBxRisQTQC6YIyDFmxzAUmgLpBRXBEB7mbE7rNYYQC2su39nmRlAv7RhAegv9z8=",
          "dtype": "f8"
         },
         "xaxis": "x",
         "y": {
          "bdata": "AP0gABe6CsAFkvpxRV4BQLvPGkwFAsY//WncvvBLyb+BXb85ZnsgQIH0csVn9BHAS2PdUn5FEMCyOBl9w1MCwP20h+xIfPW/zKjpu026DEAPvsx9SN0GwPFSnxWpIwdAIwSwE4d24D8e5Ajnky4SwPhIFlpyTPK/3gOnfo35AkBXLAJb9HYSwN5Y9DtggRPADqOj+SUEAcBbuX+BPuQNQOcd4t1P8vs/gjT7zEkYAsDwQN59pAIKwKNQYE9/cP0/dGGGOWHZA8BEu54YPZrwv8ljNwiQzhDAl40R80jtCEBEG8V9yioDwAUVMX8bMwbAV+8/ESSnv7/jvYqCf+3TP7ObsGGw9/c/ZZ6OAAQ1DsCIglw/inWzP5HWIMQGphfAURKAQfVpF0BmpNl5YMUEQEJmVpSuphhA9nfUL+FmCMD6SN5Ui8bGv6xOc5aSmABAcAwnku1+BMD3oulDCnUNQGHIXT95JfI/H4YuA5DfEMC32oehJ7ghQMxt++Iw9wnAfv9dvcar8r+BtWrclIv4P9Vunjog7wbA2tAPzyHwtT/umrB5udfDv9IT8FTEQvA/q5qC98b+EcDiJNKvISsRwFqkDXXYGRdAwiNbZLmPF0DEPF5qGywVwLnnSp9/riBAWCPEqY8jAMAkAY6GkWMIwERScxqgdAJAMuKJLF908r/itrcXH0AIwLu+Mc/qbPg/6z+4N3m2FcAiAsH+wgr8PyQ604s+LSFAYE9V3QM6FMBbX9m87+W7v5A7zSNAwe8/fZCaAHSF9b9u42qufFjBP3q9zXxEQv6/O23eU9fD/z9SHawKu0zZv2sWBHhTpALAREaqDECbCMBgmTAhPdUHwLSEmH3jBRVAh5tyDyBn9z+Epa/BlPIFwD4ye7ZS+CBACH8hlwaTB8D/IH5ZAQoMQA3PsSqBtRDAUc/QHIKq4r9VVQs3/XsSwGPUWnNvgRpAHS76I6x/DcBEMv+H6QIBwFaGV/2Kz/a/6CEhOV8h/L/wFNk95/73P1lMVBq4fwjA74fxXB+qEMCmfqCOiKIbQKhws4I9ixpActDvHBX9/j9ayMu/ukj0vxFma2QD5RtAOr3xq/iUEEAD4Ts5c68NwFYVknaIfx1AsPqGMLO33r8vrIT7WC0EQD7mOzhBAeS/txEQYgry5D9zwN3euL7jPwQ7vUIBi/G/PB4wZi34AUCbzAtmiKryv5K8ixgcKfQ/O6bSscyy/L/t/Gw1i3OkP9lD0xWATRLA+FnXhniWB8AJV17GfwYAQJKFKh4Q2/y/qRu2XX/0CUCGWz7X6EADQHe9MaLFtvy/gtPcLiP3+j8=",
          "dtype": "f8"
         },
         "yaxis": "y"
        }
       ],
       "layout": {
        "coloraxis": {
         "colorbar": {
          "title": {
           "text": "Label"
          }
         },
         "colorscale": [
          [
           0,
           "#0d0887"
          ],
          [
           0.1111111111111111,
           "#46039f"
          ],
          [
           0.2222222222222222,
           "#7201a8"
          ],
          [
           0.3333333333333333,
           "#9c179e"
          ],
          [
           0.4444444444444444,
           "#bd3786"
          ],
          [
           0.5555555555555556,
           "#d8576b"
          ],
          [
           0.6666666666666666,
           "#ed7953"
          ],
          [
           0.7777777777777778,
           "#fb9f3a"
          ],
          [
           0.8888888888888888,
           "#fdca26"
          ],
          [
           1,
           "#f0f921"
          ]
         ]
        },
        "legend": {
         "tracegroupgap": 0
        },
        "template": {
         "data": {
          "bar": [
           {
            "error_x": {
             "color": "#2a3f5f"
            },
            "error_y": {
             "color": "#2a3f5f"
            },
            "marker": {
             "line": {
              "color": "#E5ECF6",
              "width": 0.5
             },
             "pattern": {
              "fillmode": "overlay",
              "size": 10,
              "solidity": 0.2
             }
            },
            "type": "bar"
           }
          ],
          "barpolar": [
           {
            "marker": {
             "line": {
              "color": "#E5ECF6",
              "width": 0.5
             },
             "pattern": {
              "fillmode": "overlay",
              "size": 10,
              "solidity": 0.2
             }
            },
            "type": "barpolar"
           }
          ],
          "carpet": [
           {
            "aaxis": {
             "endlinecolor": "#2a3f5f",
             "gridcolor": "white",
             "linecolor": "white",
             "minorgridcolor": "white",
             "startlinecolor": "#2a3f5f"
            },
            "baxis": {
             "endlinecolor": "#2a3f5f",
             "gridcolor": "white",
             "linecolor": "white",
             "minorgridcolor": "white",
             "startlinecolor": "#2a3f5f"
            },
            "type": "carpet"
           }
          ],
          "choropleth": [
           {
            "colorbar": {
             "outlinewidth": 0,
             "ticks": ""
            },
            "type": "choropleth"
           }
          ],
          "contour": [
           {
            "colorbar": {
             "outlinewidth": 0,
             "ticks": ""
            },
            "colorscale": [
             [
              0,
              "#0d0887"
             ],
             [
              0.1111111111111111,
              "#46039f"
             ],
             [
              0.2222222222222222,
              "#7201a8"
             ],
             [
              0.3333333333333333,
              "#9c179e"
             ],
             [
              0.4444444444444444,
              "#bd3786"
             ],
             [
              0.5555555555555556,
              "#d8576b"
             ],
             [
              0.6666666666666666,
              "#ed7953"
             ],
             [
              0.7777777777777778,
              "#fb9f3a"
             ],
             [
              0.8888888888888888,
              "#fdca26"
             ],
             [
              1,
              "#f0f921"
             ]
            ],
            "type": "contour"
           }
          ],
          "contourcarpet": [
           {
            "colorbar": {
             "outlinewidth": 0,
             "ticks": ""
            },
            "type": "contourcarpet"
           }
          ],
          "heatmap": [
           {
            "colorbar": {
             "outlinewidth": 0,
             "ticks": ""
            },
            "colorscale": [
             [
              0,
              "#0d0887"
             ],
             [
              0.1111111111111111,
              "#46039f"
             ],
             [
              0.2222222222222222,
              "#7201a8"
             ],
             [
              0.3333333333333333,
              "#9c179e"
             ],
             [
              0.4444444444444444,
              "#bd3786"
             ],
             [
              0.5555555555555556,
              "#d8576b"
             ],
             [
              0.6666666666666666,
              "#ed7953"
             ],
             [
              0.7777777777777778,
              "#fb9f3a"
             ],
             [
              0.8888888888888888,
              "#fdca26"
             ],
             [
              1,
              "#f0f921"
             ]
            ],
            "type": "heatmap"
           }
          ],
          "histogram": [
           {
            "marker": {
             "pattern": {
              "fillmode": "overlay",
              "size": 10,
              "solidity": 0.2
             }
            },
            "type": "histogram"
           }
          ],
          "histogram2d": [
           {
            "colorbar": {
             "outlinewidth": 0,
             "ticks": ""
            },
            "colorscale": [
             [
              0,
              "#0d0887"
             ],
             [
              0.1111111111111111,
              "#46039f"
             ],
             [
              0.2222222222222222,
              "#7201a8"
             ],
             [
              0.3333333333333333,
              "#9c179e"
             ],
             [
              0.4444444444444444,
              "#bd3786"
             ],
             [
              0.5555555555555556,
              "#d8576b"
             ],
             [
              0.6666666666666666,
              "#ed7953"
             ],
             [
              0.7777777777777778,
              "#fb9f3a"
             ],
             [
              0.8888888888888888,
              "#fdca26"
             ],
             [
              1,
              "#f0f921"
             ]
            ],
            "type": "histogram2d"
           }
          ],
          "histogram2dcontour": [
           {
            "colorbar": {
             "outlinewidth": 0,
             "ticks": ""
            },
            "colorscale": [
             [
              0,
              "#0d0887"
             ],
             [
              0.1111111111111111,
              "#46039f"
             ],
             [
              0.2222222222222222,
              "#7201a8"
             ],
             [
              0.3333333333333333,
              "#9c179e"
             ],
             [
              0.4444444444444444,
              "#bd3786"
             ],
             [
              0.5555555555555556,
              "#d8576b"
             ],
             [
              0.6666666666666666,
              "#ed7953"
             ],
             [
              0.7777777777777778,
              "#fb9f3a"
             ],
             [
              0.8888888888888888,
              "#fdca26"
             ],
             [
              1,
              "#f0f921"
             ]
            ],
            "type": "histogram2dcontour"
           }
          ],
          "mesh3d": [
           {
            "colorbar": {
             "outlinewidth": 0,
             "ticks": ""
            },
            "type": "mesh3d"
           }
          ],
          "parcoords": [
           {
            "line": {
             "colorbar": {
              "outlinewidth": 0,
              "ticks": ""
             }
            },
            "type": "parcoords"
           }
          ],
          "pie": [
           {
            "automargin": true,
            "type": "pie"
           }
          ],
          "scatter": [
           {
            "fillpattern": {
             "fillmode": "overlay",
             "size": 10,
             "solidity": 0.2
            },
            "type": "scatter"
           }
          ],
          "scatter3d": [
           {
            "line": {
             "colorbar": {
              "outlinewidth": 0,
              "ticks": ""
             }
            },
            "marker": {
             "colorbar": {
              "outlinewidth": 0,
              "ticks": ""
             }
            },
            "type": "scatter3d"
           }
          ],
          "scattercarpet": [
           {
            "marker": {
             "colorbar": {
              "outlinewidth": 0,
              "ticks": ""
             }
            },
            "type": "scattercarpet"
           }
          ],
          "scattergeo": [
           {
            "marker": {
             "colorbar": {
              "outlinewidth": 0,
              "ticks": ""
             }
            },
            "type": "scattergeo"
           }
          ],
          "scattergl": [
           {
            "marker": {
             "colorbar": {
              "outlinewidth": 0,
              "ticks": ""
             }
            },
            "type": "scattergl"
           }
          ],
          "scattermap": [
           {
            "marker": {
             "colorbar": {
              "outlinewidth": 0,
              "ticks": ""
             }
            },
            "type": "scattermap"
           }
          ],
          "scattermapbox": [
           {
            "marker": {
             "colorbar": {
              "outlinewidth": 0,
              "ticks": ""
             }
            },
            "type": "scattermapbox"
           }
          ],
          "scatterpolar": [
           {
            "marker": {
             "colorbar": {
              "outlinewidth": 0,
              "ticks": ""
             }
            },
            "type": "scatterpolar"
           }
          ],
          "scatterpolargl": [
           {
            "marker": {
             "colorbar": {
              "outlinewidth": 0,
              "ticks": ""
             }
            },
            "type": "scatterpolargl"
           }
          ],
          "scatterternary": [
           {
            "marker": {
             "colorbar": {
              "outlinewidth": 0,
              "ticks": ""
             }
            },
            "type": "scatterternary"
           }
          ],
          "surface": [
           {
            "colorbar": {
             "outlinewidth": 0,
             "ticks": ""
            },
            "colorscale": [
             [
              0,
              "#0d0887"
             ],
             [
              0.1111111111111111,
              "#46039f"
             ],
             [
              0.2222222222222222,
              "#7201a8"
             ],
             [
              0.3333333333333333,
              "#9c179e"
             ],
             [
              0.4444444444444444,
              "#bd3786"
             ],
             [
              0.5555555555555556,
              "#d8576b"
             ],
             [
              0.6666666666666666,
              "#ed7953"
             ],
             [
              0.7777777777777778,
              "#fb9f3a"
             ],
             [
              0.8888888888888888,
              "#fdca26"
             ],
             [
              1,
              "#f0f921"
             ]
            ],
            "type": "surface"
           }
          ],
          "table": [
           {
            "cells": {
             "fill": {
              "color": "#EBF0F8"
             },
             "line": {
              "color": "white"
             }
            },
            "header": {
             "fill": {
              "color": "#C8D4E3"
             },
             "line": {
              "color": "white"
             }
            },
            "type": "table"
           }
          ]
         },
         "layout": {
          "annotationdefaults": {
           "arrowcolor": "#2a3f5f",
           "arrowhead": 0,
           "arrowwidth": 1
          },
          "autotypenumbers": "strict",
          "coloraxis": {
           "colorbar": {
            "outlinewidth": 0,
            "ticks": ""
           }
          },
          "colorscale": {
           "diverging": [
            [
             0,
             "#8e0152"
            ],
            [
             0.1,
             "#c51b7d"
            ],
            [
             0.2,
             "#de77ae"
            ],
            [
             0.3,
             "#f1b6da"
            ],
            [
             0.4,
             "#fde0ef"
            ],
            [
             0.5,
             "#f7f7f7"
            ],
            [
             0.6,
             "#e6f5d0"
            ],
            [
             0.7,
             "#b8e186"
            ],
            [
             0.8,
             "#7fbc41"
            ],
            [
             0.9,
             "#4d9221"
            ],
            [
             1,
             "#276419"
            ]
           ],
           "sequential": [
            [
             0,
             "#0d0887"
            ],
            [
             0.1111111111111111,
             "#46039f"
            ],
            [
             0.2222222222222222,
             "#7201a8"
            ],
            [
             0.3333333333333333,
             "#9c179e"
            ],
            [
             0.4444444444444444,
             "#bd3786"
            ],
            [
             0.5555555555555556,
             "#d8576b"
            ],
            [
             0.6666666666666666,
             "#ed7953"
            ],
            [
             0.7777777777777778,
             "#fb9f3a"
            ],
            [
             0.8888888888888888,
             "#fdca26"
            ],
            [
             1,
             "#f0f921"
            ]
           ],
           "sequentialminus": [
            [
             0,
             "#0d0887"
            ],
            [
             0.1111111111111111,
             "#46039f"
            ],
            [
             0.2222222222222222,
             "#7201a8"
            ],
            [
             0.3333333333333333,
             "#9c179e"
            ],
            [
             0.4444444444444444,
             "#bd3786"
            ],
            [
             0.5555555555555556,
             "#d8576b"
            ],
            [
             0.6666666666666666,
             "#ed7953"
            ],
            [
             0.7777777777777778,
             "#fb9f3a"
            ],
            [
             0.8888888888888888,
             "#fdca26"
            ],
            [
             1,
             "#f0f921"
            ]
           ]
          },
          "colorway": [
           "#636efa",
           "#EF553B",
           "#00cc96",
           "#ab63fa",
           "#FFA15A",
           "#19d3f3",
           "#FF6692",
           "#B6E880",
           "#FF97FF",
           "#FECB52"
          ],
          "font": {
           "color": "#2a3f5f"
          },
          "geo": {
           "bgcolor": "white",
           "lakecolor": "white",
           "landcolor": "#E5ECF6",
           "showlakes": true,
           "showland": true,
           "subunitcolor": "white"
          },
          "hoverlabel": {
           "align": "left"
          },
          "hovermode": "closest",
          "mapbox": {
           "style": "light"
          },
          "paper_bgcolor": "white",
          "plot_bgcolor": "#E5ECF6",
          "polar": {
           "angularaxis": {
            "gridcolor": "white",
            "linecolor": "white",
            "ticks": ""
           },
           "bgcolor": "#E5ECF6",
           "radialaxis": {
            "gridcolor": "white",
            "linecolor": "white",
            "ticks": ""
           }
          },
          "scene": {
           "xaxis": {
            "backgroundcolor": "#E5ECF6",
            "gridcolor": "white",
            "gridwidth": 2,
            "linecolor": "white",
            "showbackground": true,
            "ticks": "",
            "zerolinecolor": "white"
           },
           "yaxis": {
            "backgroundcolor": "#E5ECF6",
            "gridcolor": "white",
            "gridwidth": 2,
            "linecolor": "white",
            "showbackground": true,
            "ticks": "",
            "zerolinecolor": "white"
           },
           "zaxis": {
            "backgroundcolor": "#E5ECF6",
            "gridcolor": "white",
            "gridwidth": 2,
            "linecolor": "white",
            "showbackground": true,
            "ticks": "",
            "zerolinecolor": "white"
           }
          },
          "shapedefaults": {
           "line": {
            "color": "#2a3f5f"
           }
          },
          "ternary": {
           "aaxis": {
            "gridcolor": "white",
            "linecolor": "white",
            "ticks": ""
           },
           "baxis": {
            "gridcolor": "white",
            "linecolor": "white",
            "ticks": ""
           },
           "bgcolor": "#E5ECF6",
           "caxis": {
            "gridcolor": "white",
            "linecolor": "white",
            "ticks": ""
           }
          },
          "title": {
           "x": 0.05
          },
          "xaxis": {
           "automargin": true,
           "gridcolor": "white",
           "linecolor": "white",
           "ticks": "",
           "title": {
            "standoff": 15
           },
           "zerolinecolor": "white",
           "zerolinewidth": 2
          },
          "yaxis": {
           "automargin": true,
           "gridcolor": "white",
           "linecolor": "white",
           "ticks": "",
           "title": {
            "standoff": 15
           },
           "zerolinecolor": "white",
           "zerolinewidth": 2
          }
         }
        },
        "title": {
         "text": "Interactive PCA"
        },
        "xaxis": {
         "anchor": "y",
         "domain": [
          0,
          1
         ],
         "title": {
          "text": "PC1"
         }
        },
        "yaxis": {
         "anchor": "x",
         "domain": [
          0,
          1
         ],
         "title": {
          "text": "PC2"
         }
        }
       }
      }
     },
     "metadata": {},
     "output_type": "display_data"
    }
   ],
   "source": [
    "#PCA and UMAP in 2D\n",
    "\n",
    "# Prepare labels for coloring and hover\n",
    "labels = y_train[\"characteristics_ch1\"] if \"characteristics_ch1\" in y_train.columns else y_train.squeeze()\n",
    "\n",
    "# PCA interactive plot\n",
    "pca = PCA(n_components=2)\n",
    "\n",
    "pca_result = pca.fit_transform(X_scaled_imputed)\n",
    "pca_df = pd.DataFrame({\n",
    "    \"PC1\": pca_result[:, 0],\n",
    "    \"PC2\": pca_result[:, 1],\n",
    "    \"Label\": labels\n",
    "})\n",
    "fig_pca = px.scatter(pca_df, x=\"PC1\", y=\"PC2\", color=\"Label\", hover_name=\"Label\", title=\"Interactive PCA\")\n",
    "fig_pca.show()"
   ]
  },
  {
   "cell_type": "code",
   "execution_count": 33,
   "id": "0581644e",
   "metadata": {},
   "outputs": [
    {
     "data": {
      "application/vnd.plotly.v1+json": {
       "config": {
        "plotlyServerURL": "https://plot.ly"
       },
       "data": [
        {
         "hovertemplate": "<b>%{hovertext}</b><br><br>UMAP1=%{x}<br>UMAP2=%{y}<br>Label=%{marker.color}<extra></extra>",
         "hovertext": {
          "bdata": "AAAAAAAAGEAAAAAAAAAYQAAAAAAAAAhAAAAAAAAACEAAAAAAAAAQQAAAAAAAABRAAAAAAAAA8D8AAAAAAAAYQAAAAAAAAPA/AAAAAAAAGEAAAAAAAAAIQAAAAAAAABhAAAAAAAAACEAAAAAAAADwPwAAAAAAAAAAAAAAAAAAEEAAAAAAAAAUQAAAAAAAAAAAAAAAAAAACEAAAAAAAAAQQAAAAAAAAAhAAAAAAAAACEAAAAAAAAAAQAAAAAAAABBAAAAAAAAAGEAAAAAAAAAIQAAAAAAAABRAAAAAAAAAEEAAAAAAAAAUQAAAAAAAAPA/AAAAAAAACEAAAAAAAAAIQAAAAAAAAAhAAAAAAAAAGEAAAAAAAAAIQAAAAAAAAAAAAAAAAAAAEEAAAAAAAAAIQAAAAAAAABBAAAAAAAAA8D8AAAAAAAAYQAAAAAAAAAhAAAAAAAAAFEAAAAAAAAAQQAAAAAAAAAhAAAAAAAAAFEAAAAAAAAAQQAAAAAAAAABAAAAAAAAAFEAAAAAAAAAIQAAAAAAAABRAAAAAAAAAFEAAAAAAAAAYQAAAAAAAABBAAAAAAAAAFEAAAAAAAAAUQAAAAAAAABBAAAAAAAAAEEAAAAAAAADwPwAAAAAAABBAAAAAAAAAGEAAAAAAAAAUQAAAAAAAAAhAAAAAAAAAFEAAAAAAAAAAAAAAAAAAAAhAAAAAAAAA8D8AAAAAAAAYQAAAAAAAABBAAAAAAAAAFEAAAAAAAAAYQAAAAAAAABhAAAAAAAAAGEAAAAAAAAAIQAAAAAAAABhAAAAAAAAACEAAAAAAAAAIQAAAAAAAABRAAAAAAAAAAAAAAAAAAAAYQAAAAAAAABBAAAAAAAAAEEAAAAAAAAAAAAAAAAAAABBAAAAAAAAAFEAAAAAAAAAIQAAAAAAAAAAAAAAAAAAAFEAAAAAAAAAUQAAAAAAAABBAAAAAAAAAFEAAAAAAAAAIQAAAAAAAABRAAAAAAAAACEAAAAAAAAAYQAAAAAAAABhAAAAAAAAAAAAAAAAAAAAQQAAAAAAAABBAAAAAAAAACEAAAAAAAAAIQAAAAAAAABBAAAAAAAAACEAAAAAAAAAUQAAAAAAAABBAAAAAAAAAEEAAAAAAAAAIQAAAAAAAAPA/AAAAAAAACEAAAAAAAAAIQAAAAAAAAAhAAAAAAAAA8D8AAAAAAAAYQAAAAAAAABhAAAAAAAAACEAAAAAAAAAYQAAAAAAAABRAAAAAAAAAAAAAAAAAAAAYQAAAAAAAAAhAAAAAAAAAGEAAAAAAAAAYQAAAAAAAABRAAAAAAAAAEEA=",
          "dtype": "f8"
         },
         "legendgroup": "",
         "marker": {
          "color": {
           "bdata": "BgYDAwQFAQYBBgMGAwEABAUAAwQDAwIEBgMFBAUBAwMDBgMABAMEAQYDBQQDBQQCBQMFBQYEBQUEBAEEBgUDBQADAQYEBQYGBgMGAwMFAAYEBAAEBQMABQUEBQMFAwYGAAQEAwMEAwUEBAMBAwMDAQYGAwYFAAYDBgYFBA==",
           "dtype": "i1"
          },
          "coloraxis": "coloraxis",
          "symbol": "circle"
         },
         "mode": "markers",
         "name": "",
         "orientation": "v",
         "showlegend": false,
         "type": "scatter",
         "x": {
          "bdata": "BWtjQbrVU0H/0sJABRitQBWEKUGHwWVBvhCzQIcRYEHLyqlAozpHQeZpvUD3hUZBhGqmQMSfsUD4bmVB7vc/QcPSZkEZZmlBcSWiQAh4QUE6yLhAYvXAQMRnpUB7zU9BVX5lQV0hxUAlk2FBf59AQYU4YEGj961A9NKZQLGepkDTgKBABS9dQeA6q0BbK2hBGnsxQaADzEBLszZB+361QOG7UEHNyNFAwAdjQWQzy0CY2sBABtxoQX1TJ0EjMa1AquRdQSikvUDvNl5BmStXQeE+UUE4vEhBV0dkQYP7aEE0ri9BUN41QQoLr0Cq0y9BUBFfQbmfYkGoUNVAk/hcQbBYZkEd78RAsOy2QEgPVUGGEy1Be0JnQbynU0EKFVdBJfhWQSn5okA2n1tBu57BQJS8mUDlTWBBAUdnQRmrW0HkvilBritNQazmaEHp7CxBPG9gQda03kDW5GVBga5bQeVoaEFR1DdBOYllQanRwECSy1lBv2uYQJaBSkG7qGVBmi5qQfSDK0GRtChBEqfZQAa9sEBvZi5B1w86QRWFZUHMkStBP+C4QHtcvUAopa5A4HnVQNM/rkCoBqRAnLaqQCzXVUHTwUtBXKSbQI6FT0GyZ2pBwktpQdQgREGe/K9AZhFDQcmrT0H+cWJBcQJFQQ==",
          "dtype": "f4"
         },
         "xaxis": "x",
         "y": {
          "bdata": "SHnTP2MwDECZiirAY4k6wEtjhj91ziZA9Peav/n+mj90zKy/3xUCQP3Q4b+iGxRAVz1JwEPNYL9Xx49ApByuP+egIkBqnJRAr4EqwOlooz+ykWbA58MQwPqDnL8GM60/67i3PwB3WcAR3VxADsNxP3zpYkBZFKy/v0BBwBHgUsCb1VbAyl+4Pw9CYMDFB55AqR2SP/9EWMDzpW0/67KRv8U3/T9D82TAxc41QO9sQMD6h2jAhfbkPyLOhT9H7pG/mxN4QMlvQMAjgxFAXd7aP8la0j9SK8E/4N5xQOPMC0Ayd54/pEq1PyjrgL9KnKs/ey+ZP+vfU0Bv803AuLUrQAX6oUA1mjPAL+JsvxxVzj8S4po//5I7QDGyAkAooM0/d84dQHztXcDkEog/B+pIwM5ZUMDaHz1AEJSlQNI59T+Wg7s+hAaOP0zRmUDla1I/jEMtQKe2WsCWaJxANVxpQGRt8D9a59g//RRmQMa3HcAEHUdA+EszwFizKEBJ1Lg/XcujQH1QlT9bVDw/s7pNwB44PsCWCV4/SH2SPxP1ekAmVy8/CRNSwK6zbsBKO72//nVSwFcGbMBi/j7AAfDDv1M/oT8wyRdAP8E6wCBGI0CwB98/ypabQI4/EUBt02XAPqgGQDhZOUA3WoNA8A+WPw==",
          "dtype": "f4"
         },
         "yaxis": "y"
        }
       ],
       "layout": {
        "coloraxis": {
         "colorbar": {
          "title": {
           "text": "Label"
          }
         },
         "colorscale": [
          [
           0,
           "#0d0887"
          ],
          [
           0.1111111111111111,
           "#46039f"
          ],
          [
           0.2222222222222222,
           "#7201a8"
          ],
          [
           0.3333333333333333,
           "#9c179e"
          ],
          [
           0.4444444444444444,
           "#bd3786"
          ],
          [
           0.5555555555555556,
           "#d8576b"
          ],
          [
           0.6666666666666666,
           "#ed7953"
          ],
          [
           0.7777777777777778,
           "#fb9f3a"
          ],
          [
           0.8888888888888888,
           "#fdca26"
          ],
          [
           1,
           "#f0f921"
          ]
         ]
        },
        "legend": {
         "tracegroupgap": 0
        },
        "template": {
         "data": {
          "bar": [
           {
            "error_x": {
             "color": "#2a3f5f"
            },
            "error_y": {
             "color": "#2a3f5f"
            },
            "marker": {
             "line": {
              "color": "#E5ECF6",
              "width": 0.5
             },
             "pattern": {
              "fillmode": "overlay",
              "size": 10,
              "solidity": 0.2
             }
            },
            "type": "bar"
           }
          ],
          "barpolar": [
           {
            "marker": {
             "line": {
              "color": "#E5ECF6",
              "width": 0.5
             },
             "pattern": {
              "fillmode": "overlay",
              "size": 10,
              "solidity": 0.2
             }
            },
            "type": "barpolar"
           }
          ],
          "carpet": [
           {
            "aaxis": {
             "endlinecolor": "#2a3f5f",
             "gridcolor": "white",
             "linecolor": "white",
             "minorgridcolor": "white",
             "startlinecolor": "#2a3f5f"
            },
            "baxis": {
             "endlinecolor": "#2a3f5f",
             "gridcolor": "white",
             "linecolor": "white",
             "minorgridcolor": "white",
             "startlinecolor": "#2a3f5f"
            },
            "type": "carpet"
           }
          ],
          "choropleth": [
           {
            "colorbar": {
             "outlinewidth": 0,
             "ticks": ""
            },
            "type": "choropleth"
           }
          ],
          "contour": [
           {
            "colorbar": {
             "outlinewidth": 0,
             "ticks": ""
            },
            "colorscale": [
             [
              0,
              "#0d0887"
             ],
             [
              0.1111111111111111,
              "#46039f"
             ],
             [
              0.2222222222222222,
              "#7201a8"
             ],
             [
              0.3333333333333333,
              "#9c179e"
             ],
             [
              0.4444444444444444,
              "#bd3786"
             ],
             [
              0.5555555555555556,
              "#d8576b"
             ],
             [
              0.6666666666666666,
              "#ed7953"
             ],
             [
              0.7777777777777778,
              "#fb9f3a"
             ],
             [
              0.8888888888888888,
              "#fdca26"
             ],
             [
              1,
              "#f0f921"
             ]
            ],
            "type": "contour"
           }
          ],
          "contourcarpet": [
           {
            "colorbar": {
             "outlinewidth": 0,
             "ticks": ""
            },
            "type": "contourcarpet"
           }
          ],
          "heatmap": [
           {
            "colorbar": {
             "outlinewidth": 0,
             "ticks": ""
            },
            "colorscale": [
             [
              0,
              "#0d0887"
             ],
             [
              0.1111111111111111,
              "#46039f"
             ],
             [
              0.2222222222222222,
              "#7201a8"
             ],
             [
              0.3333333333333333,
              "#9c179e"
             ],
             [
              0.4444444444444444,
              "#bd3786"
             ],
             [
              0.5555555555555556,
              "#d8576b"
             ],
             [
              0.6666666666666666,
              "#ed7953"
             ],
             [
              0.7777777777777778,
              "#fb9f3a"
             ],
             [
              0.8888888888888888,
              "#fdca26"
             ],
             [
              1,
              "#f0f921"
             ]
            ],
            "type": "heatmap"
           }
          ],
          "histogram": [
           {
            "marker": {
             "pattern": {
              "fillmode": "overlay",
              "size": 10,
              "solidity": 0.2
             }
            },
            "type": "histogram"
           }
          ],
          "histogram2d": [
           {
            "colorbar": {
             "outlinewidth": 0,
             "ticks": ""
            },
            "colorscale": [
             [
              0,
              "#0d0887"
             ],
             [
              0.1111111111111111,
              "#46039f"
             ],
             [
              0.2222222222222222,
              "#7201a8"
             ],
             [
              0.3333333333333333,
              "#9c179e"
             ],
             [
              0.4444444444444444,
              "#bd3786"
             ],
             [
              0.5555555555555556,
              "#d8576b"
             ],
             [
              0.6666666666666666,
              "#ed7953"
             ],
             [
              0.7777777777777778,
              "#fb9f3a"
             ],
             [
              0.8888888888888888,
              "#fdca26"
             ],
             [
              1,
              "#f0f921"
             ]
            ],
            "type": "histogram2d"
           }
          ],
          "histogram2dcontour": [
           {
            "colorbar": {
             "outlinewidth": 0,
             "ticks": ""
            },
            "colorscale": [
             [
              0,
              "#0d0887"
             ],
             [
              0.1111111111111111,
              "#46039f"
             ],
             [
              0.2222222222222222,
              "#7201a8"
             ],
             [
              0.3333333333333333,
              "#9c179e"
             ],
             [
              0.4444444444444444,
              "#bd3786"
             ],
             [
              0.5555555555555556,
              "#d8576b"
             ],
             [
              0.6666666666666666,
              "#ed7953"
             ],
             [
              0.7777777777777778,
              "#fb9f3a"
             ],
             [
              0.8888888888888888,
              "#fdca26"
             ],
             [
              1,
              "#f0f921"
             ]
            ],
            "type": "histogram2dcontour"
           }
          ],
          "mesh3d": [
           {
            "colorbar": {
             "outlinewidth": 0,
             "ticks": ""
            },
            "type": "mesh3d"
           }
          ],
          "parcoords": [
           {
            "line": {
             "colorbar": {
              "outlinewidth": 0,
              "ticks": ""
             }
            },
            "type": "parcoords"
           }
          ],
          "pie": [
           {
            "automargin": true,
            "type": "pie"
           }
          ],
          "scatter": [
           {
            "fillpattern": {
             "fillmode": "overlay",
             "size": 10,
             "solidity": 0.2
            },
            "type": "scatter"
           }
          ],
          "scatter3d": [
           {
            "line": {
             "colorbar": {
              "outlinewidth": 0,
              "ticks": ""
             }
            },
            "marker": {
             "colorbar": {
              "outlinewidth": 0,
              "ticks": ""
             }
            },
            "type": "scatter3d"
           }
          ],
          "scattercarpet": [
           {
            "marker": {
             "colorbar": {
              "outlinewidth": 0,
              "ticks": ""
             }
            },
            "type": "scattercarpet"
           }
          ],
          "scattergeo": [
           {
            "marker": {
             "colorbar": {
              "outlinewidth": 0,
              "ticks": ""
             }
            },
            "type": "scattergeo"
           }
          ],
          "scattergl": [
           {
            "marker": {
             "colorbar": {
              "outlinewidth": 0,
              "ticks": ""
             }
            },
            "type": "scattergl"
           }
          ],
          "scattermap": [
           {
            "marker": {
             "colorbar": {
              "outlinewidth": 0,
              "ticks": ""
             }
            },
            "type": "scattermap"
           }
          ],
          "scattermapbox": [
           {
            "marker": {
             "colorbar": {
              "outlinewidth": 0,
              "ticks": ""
             }
            },
            "type": "scattermapbox"
           }
          ],
          "scatterpolar": [
           {
            "marker": {
             "colorbar": {
              "outlinewidth": 0,
              "ticks": ""
             }
            },
            "type": "scatterpolar"
           }
          ],
          "scatterpolargl": [
           {
            "marker": {
             "colorbar": {
              "outlinewidth": 0,
              "ticks": ""
             }
            },
            "type": "scatterpolargl"
           }
          ],
          "scatterternary": [
           {
            "marker": {
             "colorbar": {
              "outlinewidth": 0,
              "ticks": ""
             }
            },
            "type": "scatterternary"
           }
          ],
          "surface": [
           {
            "colorbar": {
             "outlinewidth": 0,
             "ticks": ""
            },
            "colorscale": [
             [
              0,
              "#0d0887"
             ],
             [
              0.1111111111111111,
              "#46039f"
             ],
             [
              0.2222222222222222,
              "#7201a8"
             ],
             [
              0.3333333333333333,
              "#9c179e"
             ],
             [
              0.4444444444444444,
              "#bd3786"
             ],
             [
              0.5555555555555556,
              "#d8576b"
             ],
             [
              0.6666666666666666,
              "#ed7953"
             ],
             [
              0.7777777777777778,
              "#fb9f3a"
             ],
             [
              0.8888888888888888,
              "#fdca26"
             ],
             [
              1,
              "#f0f921"
             ]
            ],
            "type": "surface"
           }
          ],
          "table": [
           {
            "cells": {
             "fill": {
              "color": "#EBF0F8"
             },
             "line": {
              "color": "white"
             }
            },
            "header": {
             "fill": {
              "color": "#C8D4E3"
             },
             "line": {
              "color": "white"
             }
            },
            "type": "table"
           }
          ]
         },
         "layout": {
          "annotationdefaults": {
           "arrowcolor": "#2a3f5f",
           "arrowhead": 0,
           "arrowwidth": 1
          },
          "autotypenumbers": "strict",
          "coloraxis": {
           "colorbar": {
            "outlinewidth": 0,
            "ticks": ""
           }
          },
          "colorscale": {
           "diverging": [
            [
             0,
             "#8e0152"
            ],
            [
             0.1,
             "#c51b7d"
            ],
            [
             0.2,
             "#de77ae"
            ],
            [
             0.3,
             "#f1b6da"
            ],
            [
             0.4,
             "#fde0ef"
            ],
            [
             0.5,
             "#f7f7f7"
            ],
            [
             0.6,
             "#e6f5d0"
            ],
            [
             0.7,
             "#b8e186"
            ],
            [
             0.8,
             "#7fbc41"
            ],
            [
             0.9,
             "#4d9221"
            ],
            [
             1,
             "#276419"
            ]
           ],
           "sequential": [
            [
             0,
             "#0d0887"
            ],
            [
             0.1111111111111111,
             "#46039f"
            ],
            [
             0.2222222222222222,
             "#7201a8"
            ],
            [
             0.3333333333333333,
             "#9c179e"
            ],
            [
             0.4444444444444444,
             "#bd3786"
            ],
            [
             0.5555555555555556,
             "#d8576b"
            ],
            [
             0.6666666666666666,
             "#ed7953"
            ],
            [
             0.7777777777777778,
             "#fb9f3a"
            ],
            [
             0.8888888888888888,
             "#fdca26"
            ],
            [
             1,
             "#f0f921"
            ]
           ],
           "sequentialminus": [
            [
             0,
             "#0d0887"
            ],
            [
             0.1111111111111111,
             "#46039f"
            ],
            [
             0.2222222222222222,
             "#7201a8"
            ],
            [
             0.3333333333333333,
             "#9c179e"
            ],
            [
             0.4444444444444444,
             "#bd3786"
            ],
            [
             0.5555555555555556,
             "#d8576b"
            ],
            [
             0.6666666666666666,
             "#ed7953"
            ],
            [
             0.7777777777777778,
             "#fb9f3a"
            ],
            [
             0.8888888888888888,
             "#fdca26"
            ],
            [
             1,
             "#f0f921"
            ]
           ]
          },
          "colorway": [
           "#636efa",
           "#EF553B",
           "#00cc96",
           "#ab63fa",
           "#FFA15A",
           "#19d3f3",
           "#FF6692",
           "#B6E880",
           "#FF97FF",
           "#FECB52"
          ],
          "font": {
           "color": "#2a3f5f"
          },
          "geo": {
           "bgcolor": "white",
           "lakecolor": "white",
           "landcolor": "#E5ECF6",
           "showlakes": true,
           "showland": true,
           "subunitcolor": "white"
          },
          "hoverlabel": {
           "align": "left"
          },
          "hovermode": "closest",
          "mapbox": {
           "style": "light"
          },
          "paper_bgcolor": "white",
          "plot_bgcolor": "#E5ECF6",
          "polar": {
           "angularaxis": {
            "gridcolor": "white",
            "linecolor": "white",
            "ticks": ""
           },
           "bgcolor": "#E5ECF6",
           "radialaxis": {
            "gridcolor": "white",
            "linecolor": "white",
            "ticks": ""
           }
          },
          "scene": {
           "xaxis": {
            "backgroundcolor": "#E5ECF6",
            "gridcolor": "white",
            "gridwidth": 2,
            "linecolor": "white",
            "showbackground": true,
            "ticks": "",
            "zerolinecolor": "white"
           },
           "yaxis": {
            "backgroundcolor": "#E5ECF6",
            "gridcolor": "white",
            "gridwidth": 2,
            "linecolor": "white",
            "showbackground": true,
            "ticks": "",
            "zerolinecolor": "white"
           },
           "zaxis": {
            "backgroundcolor": "#E5ECF6",
            "gridcolor": "white",
            "gridwidth": 2,
            "linecolor": "white",
            "showbackground": true,
            "ticks": "",
            "zerolinecolor": "white"
           }
          },
          "shapedefaults": {
           "line": {
            "color": "#2a3f5f"
           }
          },
          "ternary": {
           "aaxis": {
            "gridcolor": "white",
            "linecolor": "white",
            "ticks": ""
           },
           "baxis": {
            "gridcolor": "white",
            "linecolor": "white",
            "ticks": ""
           },
           "bgcolor": "#E5ECF6",
           "caxis": {
            "gridcolor": "white",
            "linecolor": "white",
            "ticks": ""
           }
          },
          "title": {
           "x": 0.05
          },
          "xaxis": {
           "automargin": true,
           "gridcolor": "white",
           "linecolor": "white",
           "ticks": "",
           "title": {
            "standoff": 15
           },
           "zerolinecolor": "white",
           "zerolinewidth": 2
          },
          "yaxis": {
           "automargin": true,
           "gridcolor": "white",
           "linecolor": "white",
           "ticks": "",
           "title": {
            "standoff": 15
           },
           "zerolinecolor": "white",
           "zerolinewidth": 2
          }
         }
        },
        "title": {
         "text": "Interactive UMAP"
        },
        "xaxis": {
         "anchor": "y",
         "domain": [
          0,
          1
         ],
         "title": {
          "text": "UMAP1"
         }
        },
        "yaxis": {
         "anchor": "x",
         "domain": [
          0,
          1
         ],
         "title": {
          "text": "UMAP2"
         }
        }
       }
      }
     },
     "metadata": {},
     "output_type": "display_data"
    }
   ],
   "source": [
    "# UMAP interactive plot\n",
    "\n",
    "reducer = umap.UMAP(n_components=2)\n",
    "umap_result = reducer.fit_transform(X_scaled_imputed)\n",
    "umap_df = pd.DataFrame({\n",
    "    \"UMAP1\": umap_result[:, 0],\n",
    "    \"UMAP2\": umap_result[:, 1],\n",
    "    \"Label\": labels\n",
    "})\n",
    "fig_umap = px.scatter(umap_df, x=\"UMAP1\", y=\"UMAP2\", color=\"Label\", hover_name=\"Label\", title=\"Interactive UMAP\")\n",
    "fig_umap.show()"
   ]
  },
  {
   "cell_type": "code",
   "execution_count": 34,
   "id": "f2cbca0e",
   "metadata": {},
   "outputs": [
    {
     "data": {
      "application/vnd.plotly.v1+json": {
       "config": {
        "plotlyServerURL": "https://plot.ly"
       },
       "data": [
        {
         "hovertemplate": "<b>%{hovertext}</b><br><br>PC1=%{x}<br>PC2=%{y}<br>PC3=%{z}<br>Label=%{marker.color}<extra></extra>",
         "hovertext": {
          "bdata": "AAAAAAAAGEAAAAAAAAAYQAAAAAAAAAhAAAAAAAAACEAAAAAAAAAQQAAAAAAAABRAAAAAAAAA8D8AAAAAAAAYQAAAAAAAAPA/AAAAAAAAGEAAAAAAAAAIQAAAAAAAABhAAAAAAAAACEAAAAAAAADwPwAAAAAAAAAAAAAAAAAAEEAAAAAAAAAUQAAAAAAAAAAAAAAAAAAACEAAAAAAAAAQQAAAAAAAAAhAAAAAAAAACEAAAAAAAAAAQAAAAAAAABBAAAAAAAAAGEAAAAAAAAAIQAAAAAAAABRAAAAAAAAAEEAAAAAAAAAUQAAAAAAAAPA/AAAAAAAACEAAAAAAAAAIQAAAAAAAAAhAAAAAAAAAGEAAAAAAAAAIQAAAAAAAAAAAAAAAAAAAEEAAAAAAAAAIQAAAAAAAABBAAAAAAAAA8D8AAAAAAAAYQAAAAAAAAAhAAAAAAAAAFEAAAAAAAAAQQAAAAAAAAAhAAAAAAAAAFEAAAAAAAAAQQAAAAAAAAABAAAAAAAAAFEAAAAAAAAAIQAAAAAAAABRAAAAAAAAAFEAAAAAAAAAYQAAAAAAAABBAAAAAAAAAFEAAAAAAAAAUQAAAAAAAABBAAAAAAAAAEEAAAAAAAADwPwAAAAAAABBAAAAAAAAAGEAAAAAAAAAUQAAAAAAAAAhAAAAAAAAAFEAAAAAAAAAAAAAAAAAAAAhAAAAAAAAA8D8AAAAAAAAYQAAAAAAAABBAAAAAAAAAFEAAAAAAAAAYQAAAAAAAABhAAAAAAAAAGEAAAAAAAAAIQAAAAAAAABhAAAAAAAAACEAAAAAAAAAIQAAAAAAAABRAAAAAAAAAAAAAAAAAAAAYQAAAAAAAABBAAAAAAAAAEEAAAAAAAAAAAAAAAAAAABBAAAAAAAAAFEAAAAAAAAAIQAAAAAAAAAAAAAAAAAAAFEAAAAAAAAAUQAAAAAAAABBAAAAAAAAAFEAAAAAAAAAIQAAAAAAAABRAAAAAAAAACEAAAAAAAAAYQAAAAAAAABhAAAAAAAAAAAAAAAAAAAAQQAAAAAAAABBAAAAAAAAACEAAAAAAAAAIQAAAAAAAABBAAAAAAAAACEAAAAAAAAAUQAAAAAAAABBAAAAAAAAAEEAAAAAAAAAIQAAAAAAAAPA/AAAAAAAACEAAAAAAAAAIQAAAAAAAAAhAAAAAAAAA8D8AAAAAAAAYQAAAAAAAABhAAAAAAAAACEAAAAAAAAAYQAAAAAAAABRAAAAAAAAAAAAAAAAAAAAYQAAAAAAAAAhAAAAAAAAAGEAAAAAAAAAYQAAAAAAAABRAAAAAAAAAEEA=",
          "dtype": "f8"
         },
         "legendgroup": "",
         "marker": {
          "color": {
           "bdata": "BgYDAwQFAQYBBgMGAwEABAUAAwQDAwIEBgMFBAUBAwMDBgMABAMEAQYDBQQDBQQCBQMFBQYEBQUEBAEEBgUDBQADAQYEBQYGBgMGAwMFAAYEBAAEBQMABQUEBQMFAwYGAAQEAwMEAwUEBAMBAwMDAQYGAwYFAAYDBgYFBA==",
           "dtype": "i1"
          },
          "coloraxis": "coloraxis",
          "symbol": "circle"
         },
         "mode": "markers",
         "name": "",
         "scene": "scene",
         "showlegend": false,
         "type": "scatter3d",
         "x": {
          "bdata": "ExathYu+EUBIFPtnw04CQBfDugTtgRvA3yYwy+xdH8DNVOL8rjT/P13FxexxjxZA1YGgK7DlHMBDomVWUfYAQJZ0rz64LBvA3GG7D9z2CkAJI7oU1b0ewFYZ69rOrRlAG8NyQWYzIMAmx3R5COIZwLGEt4pGDRRAfNn+rQuUB0AN2Ze6SxMQQCkwy/ap3RNAEUJrUGeEIsDIMD3CrHYQQGWSylr4GyLAtm6FX1s1F8CLuqXaJYMawNZxRiYUigFAHl/cu1kXBUBcDVfuCBEWwPeAltehPB1AbW60l12y8D/egK7M24ofQJHFDktsRB3Ahh0JY/OXIcAgIgZgkPohwM9bxnTZhiHAjew7n7wTEkCKFX35IxsdwPvJYFx01fg/dQH6/X8bDkAvt+b73g8VwMNq1dNsS/4/0VtB08TYIcB1eZ9z0+4RQCHOtP52xxDAoea54FRzGkCIPKWdZx8VwGn7JhJJIxTAeGi3E3VzE0C6PxzVS0/wP21Mb/M7GhfACKgFlFRiHUDtBJeSmnQewJEvFKE4GxRANHgfbfLcEkCTf0S2i5MQQH0hq65VjQpAFkCNNhpTG0Ce3UAMbOMXQHkMd0qCdA1AJEmr+EtX9D/HUYW6Q30gwLuDCiufHg9AxmuRW6A8EEAL8hvCXDgXQFmhXtmgYBDAxLNHaP+TGUCjXf+H33QEQEdLEc+ZgB/AgPR0qiP2HsDZTW7BFFQTQPeiYlsatAlAaoqhbp/OFkBJHXtiLJcQQLrlU5g54vg/Ls9zRUU+FUBxSI7KJx0ewJHDM1ufugRAPhltWdB4IMBhmPpgNbAiwArHShN2cxtAcf0mvvLR5r/PK8N1RrMUQIJUMCdSqfA/MW2sXvhTB0DDEs/S+8UJQJcMicZHAQ5AzgpXpPYeFkADrP41fdMXwHiJ5ZreKw1Akf2XpAiCHEBCdJSkHXcUQGCM075Y5xNAltAXe0PrGEBu5/PumCEbwCE2jazG8hxAE8aD6lijIMCS9jzGNzcRQCFp2raPfhNAWhhL8abV6D+CoM1CgZwIQI55keCXI7O/kVzyrbxd3r+dNLafmuMdwFULBbUGLQFAdzhv1yDe2b8dtz0Wud4YQNMhxOSDXAVAGmBhc+tDGsDkZQTHWbohwCoKeVnViBjAxg32FNw4EMDWtCM4QOAhwEqElH/LdCLANYR9m2NSGsCtr+/6U5sSQNYo4YinFxdA8Z/9KxL7JMBN9K83g10WQBbFa76GeBVAEPF76mUMBED5hBxRisQTQC6YIyDFmxzAUmgLpBRXBEB7mbE7rNYYQC2su39nmRlAv7RhAegv9z8=",
          "dtype": "f8"
         },
         "y": {
          "bdata": "AP0gABe6CsAFkvpxRV4BQLvPGkwFAsY//WncvvBLyb+BXb85ZnsgQIH0csVn9BHAS2PdUn5FEMCyOBl9w1MCwP20h+xIfPW/zKjpu026DEAPvsx9SN0GwPFSnxWpIwdAIwSwE4d24D8e5Ajnky4SwPhIFlpyTPK/3gOnfo35AkBXLAJb9HYSwN5Y9DtggRPADqOj+SUEAcBbuX+BPuQNQOcd4t1P8vs/gjT7zEkYAsDwQN59pAIKwKNQYE9/cP0/dGGGOWHZA8BEu54YPZrwv8ljNwiQzhDAl40R80jtCEBEG8V9yioDwAUVMX8bMwbAV+8/ESSnv7/jvYqCf+3TP7ObsGGw9/c/ZZ6OAAQ1DsCIglw/inWzP5HWIMQGphfAURKAQfVpF0BmpNl5YMUEQEJmVpSuphhA9nfUL+FmCMD6SN5Ui8bGv6xOc5aSmABAcAwnku1+BMD3oulDCnUNQGHIXT95JfI/H4YuA5DfEMC32oehJ7ghQMxt++Iw9wnAfv9dvcar8r+BtWrclIv4P9Vunjog7wbA2tAPzyHwtT/umrB5udfDv9IT8FTEQvA/q5qC98b+EcDiJNKvISsRwFqkDXXYGRdAwiNbZLmPF0DEPF5qGywVwLnnSp9/riBAWCPEqY8jAMAkAY6GkWMIwERScxqgdAJAMuKJLF908r/itrcXH0AIwLu+Mc/qbPg/6z+4N3m2FcAiAsH+wgr8PyQ604s+LSFAYE9V3QM6FMBbX9m87+W7v5A7zSNAwe8/fZCaAHSF9b9u42qufFjBP3q9zXxEQv6/O23eU9fD/z9SHawKu0zZv2sWBHhTpALAREaqDECbCMBgmTAhPdUHwLSEmH3jBRVAh5tyDyBn9z+Epa/BlPIFwD4ye7ZS+CBACH8hlwaTB8D/IH5ZAQoMQA3PsSqBtRDAUc/QHIKq4r9VVQs3/XsSwGPUWnNvgRpAHS76I6x/DcBEMv+H6QIBwFaGV/2Kz/a/6CEhOV8h/L/wFNk95/73P1lMVBq4fwjA74fxXB+qEMCmfqCOiKIbQKhws4I9ixpActDvHBX9/j9ayMu/ukj0vxFma2QD5RtAOr3xq/iUEEAD4Ts5c68NwFYVknaIfx1AsPqGMLO33r8vrIT7WC0EQD7mOzhBAeS/txEQYgry5D9zwN3euL7jPwQ7vUIBi/G/PB4wZi34AUCbzAtmiKryv5K8ixgcKfQ/O6bSscyy/L/t/Gw1i3OkP9lD0xWATRLA+FnXhniWB8AJV17GfwYAQJKFKh4Q2/y/qRu2XX/0CUCGWz7X6EADQHe9MaLFtvy/gtPcLiP3+j8=",
          "dtype": "f8"
         },
         "z": {
          "bdata": "qaIrgCtOFMAg6ug6fM8IwH5PAbRfON4/zUVtffiFAECFR9D7OaP1vyU1jIHafOi/8G9bRMLfEsAvH/so+LAQwDJ6dRGZMhXA3oICxzh5+D8p0z3Zc0YJwD4D9JZqCAfA+DksTgg68j+5XAB1N14VwLh7kiLT+xxARpyDpyoj8r9BhXtvTSf6vwnTcIX36BdAj+OZAi1muD8sscDKQtbzv6d9ki80GeM/vsioec6e+785k+DlrUkIwGXuYGYmYwjAHkFkou50EMDrbCKahfsQQPRkjLatJgJAy01WCqZU/r9bYVm9QWD7Pwf8SBFWu/6/XUiLjYmb9z/mjHvLcZYFQG1TPhakkQNAqeMhEELC+7+b+rKsoJADQHnAmnWM6xVA9CB+EWa77D94AwCPANwEQITeJ5DdC/G/Rg6hzgmzCMDq1Cpa0LIHwGPxXOaxN+E/KBhg66AT9b9I+SDy80H7P9g1EZlMWxFAURB3d4HjC8Ag7afgkCcDwABjc0LqARDAXeCt9v/+CkB9QTjaku4AQK4zJ9xeIwnA040syOOrBcCnVEd+0TH/v9vGjmZGPAvAohpuGEuWCEB9FmNOVZ75v+ILLfUhLvS/0b15b6CN/L/Xx4YZTsIWwBpLfsp2PNg/c48+Vx7IEMAZ1WXMUgr6PzpW9zkH3f4/7YNg8q3XA8CMIh5JH44bQBuMUmCIuvw/zLICidPqFMDnzOPnez/8v/g413VNbdw/pe/+YjrF4L/E4ie2+bW9P9QYwuBxSsE/zEH/fI/6A8AS3KbgE57lPyBR4kl9WBHAYMShs+We2D9WKSNMA7PYP/9zGBJRMeW/b/HDLlt1HUCbXSM0AKH+v1HOAasz3hVA6YPsMFnlAMCiPer2akohQF6wHlAtmP0/fhBHq0Z627+usTmdn/THv/WGQr3vPx9A2Ao/ljjPAUAVRHIGmucQwACE8PWhzfu/cJYxDssABECyccpzFuviP1qPMzcidOe/zm4BB1Ahn7+tkXqScCAIwFz0FBlRtva/tbRWctKHGkDFH7Mcw/gDwPjwguubsuQ/xoOoLJoc4L8KyAkZMxv2Pyc/P25VL/k/V3O14f9ACMClGyW0KqUNQHwrtzQBfPs/b2dndOP3BEAuA1UTnTQHQHVAUSgeqgTAsDdmF1OUCEBM78s1l3/2PxamAJtum+A/82kZWQdoBsB0jJ7x9CwFwI71QZjKYIk/BxWHlqxxwD8QouFYsRX8P+7iu066+ALAAC9rOeoUHkCC4x9yJ6PXv3st9bA0avQ/xtx9rgin5r9W/BSOpW6+P6DGRaOZ7RJAgBMz9RBK9L8=",
          "dtype": "f8"
         }
        }
       ],
       "layout": {
        "coloraxis": {
         "colorbar": {
          "title": {
           "text": "Label"
          }
         },
         "colorscale": [
          [
           0,
           "#0d0887"
          ],
          [
           0.1111111111111111,
           "#46039f"
          ],
          [
           0.2222222222222222,
           "#7201a8"
          ],
          [
           0.3333333333333333,
           "#9c179e"
          ],
          [
           0.4444444444444444,
           "#bd3786"
          ],
          [
           0.5555555555555556,
           "#d8576b"
          ],
          [
           0.6666666666666666,
           "#ed7953"
          ],
          [
           0.7777777777777778,
           "#fb9f3a"
          ],
          [
           0.8888888888888888,
           "#fdca26"
          ],
          [
           1,
           "#f0f921"
          ]
         ]
        },
        "legend": {
         "tracegroupgap": 0
        },
        "scene": {
         "domain": {
          "x": [
           0,
           1
          ],
          "y": [
           0,
           1
          ]
         },
         "xaxis": {
          "title": {
           "text": "PC1"
          }
         },
         "yaxis": {
          "title": {
           "text": "PC2"
          }
         },
         "zaxis": {
          "title": {
           "text": "PC3"
          }
         }
        },
        "template": {
         "data": {
          "bar": [
           {
            "error_x": {
             "color": "#2a3f5f"
            },
            "error_y": {
             "color": "#2a3f5f"
            },
            "marker": {
             "line": {
              "color": "#E5ECF6",
              "width": 0.5
             },
             "pattern": {
              "fillmode": "overlay",
              "size": 10,
              "solidity": 0.2
             }
            },
            "type": "bar"
           }
          ],
          "barpolar": [
           {
            "marker": {
             "line": {
              "color": "#E5ECF6",
              "width": 0.5
             },
             "pattern": {
              "fillmode": "overlay",
              "size": 10,
              "solidity": 0.2
             }
            },
            "type": "barpolar"
           }
          ],
          "carpet": [
           {
            "aaxis": {
             "endlinecolor": "#2a3f5f",
             "gridcolor": "white",
             "linecolor": "white",
             "minorgridcolor": "white",
             "startlinecolor": "#2a3f5f"
            },
            "baxis": {
             "endlinecolor": "#2a3f5f",
             "gridcolor": "white",
             "linecolor": "white",
             "minorgridcolor": "white",
             "startlinecolor": "#2a3f5f"
            },
            "type": "carpet"
           }
          ],
          "choropleth": [
           {
            "colorbar": {
             "outlinewidth": 0,
             "ticks": ""
            },
            "type": "choropleth"
           }
          ],
          "contour": [
           {
            "colorbar": {
             "outlinewidth": 0,
             "ticks": ""
            },
            "colorscale": [
             [
              0,
              "#0d0887"
             ],
             [
              0.1111111111111111,
              "#46039f"
             ],
             [
              0.2222222222222222,
              "#7201a8"
             ],
             [
              0.3333333333333333,
              "#9c179e"
             ],
             [
              0.4444444444444444,
              "#bd3786"
             ],
             [
              0.5555555555555556,
              "#d8576b"
             ],
             [
              0.6666666666666666,
              "#ed7953"
             ],
             [
              0.7777777777777778,
              "#fb9f3a"
             ],
             [
              0.8888888888888888,
              "#fdca26"
             ],
             [
              1,
              "#f0f921"
             ]
            ],
            "type": "contour"
           }
          ],
          "contourcarpet": [
           {
            "colorbar": {
             "outlinewidth": 0,
             "ticks": ""
            },
            "type": "contourcarpet"
           }
          ],
          "heatmap": [
           {
            "colorbar": {
             "outlinewidth": 0,
             "ticks": ""
            },
            "colorscale": [
             [
              0,
              "#0d0887"
             ],
             [
              0.1111111111111111,
              "#46039f"
             ],
             [
              0.2222222222222222,
              "#7201a8"
             ],
             [
              0.3333333333333333,
              "#9c179e"
             ],
             [
              0.4444444444444444,
              "#bd3786"
             ],
             [
              0.5555555555555556,
              "#d8576b"
             ],
             [
              0.6666666666666666,
              "#ed7953"
             ],
             [
              0.7777777777777778,
              "#fb9f3a"
             ],
             [
              0.8888888888888888,
              "#fdca26"
             ],
             [
              1,
              "#f0f921"
             ]
            ],
            "type": "heatmap"
           }
          ],
          "histogram": [
           {
            "marker": {
             "pattern": {
              "fillmode": "overlay",
              "size": 10,
              "solidity": 0.2
             }
            },
            "type": "histogram"
           }
          ],
          "histogram2d": [
           {
            "colorbar": {
             "outlinewidth": 0,
             "ticks": ""
            },
            "colorscale": [
             [
              0,
              "#0d0887"
             ],
             [
              0.1111111111111111,
              "#46039f"
             ],
             [
              0.2222222222222222,
              "#7201a8"
             ],
             [
              0.3333333333333333,
              "#9c179e"
             ],
             [
              0.4444444444444444,
              "#bd3786"
             ],
             [
              0.5555555555555556,
              "#d8576b"
             ],
             [
              0.6666666666666666,
              "#ed7953"
             ],
             [
              0.7777777777777778,
              "#fb9f3a"
             ],
             [
              0.8888888888888888,
              "#fdca26"
             ],
             [
              1,
              "#f0f921"
             ]
            ],
            "type": "histogram2d"
           }
          ],
          "histogram2dcontour": [
           {
            "colorbar": {
             "outlinewidth": 0,
             "ticks": ""
            },
            "colorscale": [
             [
              0,
              "#0d0887"
             ],
             [
              0.1111111111111111,
              "#46039f"
             ],
             [
              0.2222222222222222,
              "#7201a8"
             ],
             [
              0.3333333333333333,
              "#9c179e"
             ],
             [
              0.4444444444444444,
              "#bd3786"
             ],
             [
              0.5555555555555556,
              "#d8576b"
             ],
             [
              0.6666666666666666,
              "#ed7953"
             ],
             [
              0.7777777777777778,
              "#fb9f3a"
             ],
             [
              0.8888888888888888,
              "#fdca26"
             ],
             [
              1,
              "#f0f921"
             ]
            ],
            "type": "histogram2dcontour"
           }
          ],
          "mesh3d": [
           {
            "colorbar": {
             "outlinewidth": 0,
             "ticks": ""
            },
            "type": "mesh3d"
           }
          ],
          "parcoords": [
           {
            "line": {
             "colorbar": {
              "outlinewidth": 0,
              "ticks": ""
             }
            },
            "type": "parcoords"
           }
          ],
          "pie": [
           {
            "automargin": true,
            "type": "pie"
           }
          ],
          "scatter": [
           {
            "fillpattern": {
             "fillmode": "overlay",
             "size": 10,
             "solidity": 0.2
            },
            "type": "scatter"
           }
          ],
          "scatter3d": [
           {
            "line": {
             "colorbar": {
              "outlinewidth": 0,
              "ticks": ""
             }
            },
            "marker": {
             "colorbar": {
              "outlinewidth": 0,
              "ticks": ""
             }
            },
            "type": "scatter3d"
           }
          ],
          "scattercarpet": [
           {
            "marker": {
             "colorbar": {
              "outlinewidth": 0,
              "ticks": ""
             }
            },
            "type": "scattercarpet"
           }
          ],
          "scattergeo": [
           {
            "marker": {
             "colorbar": {
              "outlinewidth": 0,
              "ticks": ""
             }
            },
            "type": "scattergeo"
           }
          ],
          "scattergl": [
           {
            "marker": {
             "colorbar": {
              "outlinewidth": 0,
              "ticks": ""
             }
            },
            "type": "scattergl"
           }
          ],
          "scattermap": [
           {
            "marker": {
             "colorbar": {
              "outlinewidth": 0,
              "ticks": ""
             }
            },
            "type": "scattermap"
           }
          ],
          "scattermapbox": [
           {
            "marker": {
             "colorbar": {
              "outlinewidth": 0,
              "ticks": ""
             }
            },
            "type": "scattermapbox"
           }
          ],
          "scatterpolar": [
           {
            "marker": {
             "colorbar": {
              "outlinewidth": 0,
              "ticks": ""
             }
            },
            "type": "scatterpolar"
           }
          ],
          "scatterpolargl": [
           {
            "marker": {
             "colorbar": {
              "outlinewidth": 0,
              "ticks": ""
             }
            },
            "type": "scatterpolargl"
           }
          ],
          "scatterternary": [
           {
            "marker": {
             "colorbar": {
              "outlinewidth": 0,
              "ticks": ""
             }
            },
            "type": "scatterternary"
           }
          ],
          "surface": [
           {
            "colorbar": {
             "outlinewidth": 0,
             "ticks": ""
            },
            "colorscale": [
             [
              0,
              "#0d0887"
             ],
             [
              0.1111111111111111,
              "#46039f"
             ],
             [
              0.2222222222222222,
              "#7201a8"
             ],
             [
              0.3333333333333333,
              "#9c179e"
             ],
             [
              0.4444444444444444,
              "#bd3786"
             ],
             [
              0.5555555555555556,
              "#d8576b"
             ],
             [
              0.6666666666666666,
              "#ed7953"
             ],
             [
              0.7777777777777778,
              "#fb9f3a"
             ],
             [
              0.8888888888888888,
              "#fdca26"
             ],
             [
              1,
              "#f0f921"
             ]
            ],
            "type": "surface"
           }
          ],
          "table": [
           {
            "cells": {
             "fill": {
              "color": "#EBF0F8"
             },
             "line": {
              "color": "white"
             }
            },
            "header": {
             "fill": {
              "color": "#C8D4E3"
             },
             "line": {
              "color": "white"
             }
            },
            "type": "table"
           }
          ]
         },
         "layout": {
          "annotationdefaults": {
           "arrowcolor": "#2a3f5f",
           "arrowhead": 0,
           "arrowwidth": 1
          },
          "autotypenumbers": "strict",
          "coloraxis": {
           "colorbar": {
            "outlinewidth": 0,
            "ticks": ""
           }
          },
          "colorscale": {
           "diverging": [
            [
             0,
             "#8e0152"
            ],
            [
             0.1,
             "#c51b7d"
            ],
            [
             0.2,
             "#de77ae"
            ],
            [
             0.3,
             "#f1b6da"
            ],
            [
             0.4,
             "#fde0ef"
            ],
            [
             0.5,
             "#f7f7f7"
            ],
            [
             0.6,
             "#e6f5d0"
            ],
            [
             0.7,
             "#b8e186"
            ],
            [
             0.8,
             "#7fbc41"
            ],
            [
             0.9,
             "#4d9221"
            ],
            [
             1,
             "#276419"
            ]
           ],
           "sequential": [
            [
             0,
             "#0d0887"
            ],
            [
             0.1111111111111111,
             "#46039f"
            ],
            [
             0.2222222222222222,
             "#7201a8"
            ],
            [
             0.3333333333333333,
             "#9c179e"
            ],
            [
             0.4444444444444444,
             "#bd3786"
            ],
            [
             0.5555555555555556,
             "#d8576b"
            ],
            [
             0.6666666666666666,
             "#ed7953"
            ],
            [
             0.7777777777777778,
             "#fb9f3a"
            ],
            [
             0.8888888888888888,
             "#fdca26"
            ],
            [
             1,
             "#f0f921"
            ]
           ],
           "sequentialminus": [
            [
             0,
             "#0d0887"
            ],
            [
             0.1111111111111111,
             "#46039f"
            ],
            [
             0.2222222222222222,
             "#7201a8"
            ],
            [
             0.3333333333333333,
             "#9c179e"
            ],
            [
             0.4444444444444444,
             "#bd3786"
            ],
            [
             0.5555555555555556,
             "#d8576b"
            ],
            [
             0.6666666666666666,
             "#ed7953"
            ],
            [
             0.7777777777777778,
             "#fb9f3a"
            ],
            [
             0.8888888888888888,
             "#fdca26"
            ],
            [
             1,
             "#f0f921"
            ]
           ]
          },
          "colorway": [
           "#636efa",
           "#EF553B",
           "#00cc96",
           "#ab63fa",
           "#FFA15A",
           "#19d3f3",
           "#FF6692",
           "#B6E880",
           "#FF97FF",
           "#FECB52"
          ],
          "font": {
           "color": "#2a3f5f"
          },
          "geo": {
           "bgcolor": "white",
           "lakecolor": "white",
           "landcolor": "#E5ECF6",
           "showlakes": true,
           "showland": true,
           "subunitcolor": "white"
          },
          "hoverlabel": {
           "align": "left"
          },
          "hovermode": "closest",
          "mapbox": {
           "style": "light"
          },
          "paper_bgcolor": "white",
          "plot_bgcolor": "#E5ECF6",
          "polar": {
           "angularaxis": {
            "gridcolor": "white",
            "linecolor": "white",
            "ticks": ""
           },
           "bgcolor": "#E5ECF6",
           "radialaxis": {
            "gridcolor": "white",
            "linecolor": "white",
            "ticks": ""
           }
          },
          "scene": {
           "xaxis": {
            "backgroundcolor": "#E5ECF6",
            "gridcolor": "white",
            "gridwidth": 2,
            "linecolor": "white",
            "showbackground": true,
            "ticks": "",
            "zerolinecolor": "white"
           },
           "yaxis": {
            "backgroundcolor": "#E5ECF6",
            "gridcolor": "white",
            "gridwidth": 2,
            "linecolor": "white",
            "showbackground": true,
            "ticks": "",
            "zerolinecolor": "white"
           },
           "zaxis": {
            "backgroundcolor": "#E5ECF6",
            "gridcolor": "white",
            "gridwidth": 2,
            "linecolor": "white",
            "showbackground": true,
            "ticks": "",
            "zerolinecolor": "white"
           }
          },
          "shapedefaults": {
           "line": {
            "color": "#2a3f5f"
           }
          },
          "ternary": {
           "aaxis": {
            "gridcolor": "white",
            "linecolor": "white",
            "ticks": ""
           },
           "baxis": {
            "gridcolor": "white",
            "linecolor": "white",
            "ticks": ""
           },
           "bgcolor": "#E5ECF6",
           "caxis": {
            "gridcolor": "white",
            "linecolor": "white",
            "ticks": ""
           }
          },
          "title": {
           "x": 0.05
          },
          "xaxis": {
           "automargin": true,
           "gridcolor": "white",
           "linecolor": "white",
           "ticks": "",
           "title": {
            "standoff": 15
           },
           "zerolinecolor": "white",
           "zerolinewidth": 2
          },
          "yaxis": {
           "automargin": true,
           "gridcolor": "white",
           "linecolor": "white",
           "ticks": "",
           "title": {
            "standoff": 15
           },
           "zerolinecolor": "white",
           "zerolinewidth": 2
          }
         }
        },
        "title": {
         "text": "Interactive  3D PCA"
        }
       }
      }
     },
     "metadata": {},
     "output_type": "display_data"
    }
   ],
   "source": [
    "#PCA and UMAP in 3D\n",
    "\n",
    "# Prepare labels for coloring and hover\n",
    "labels = y_train[\"characteristics_ch1\"] if \"characteristics_ch1\" in y_train.columns else y_train.squeeze()\n",
    "\n",
    "# PCA interactive 3D plot\n",
    "pca = PCA(n_components=3)\n",
    "\n",
    "pca_result = pca.fit_transform(X_scaled_imputed)\n",
    "pca_df = pd.DataFrame({\n",
    "    \"PC1\": pca_result[:, 0],\n",
    "    \"PC2\": pca_result[:, 1],\n",
    "    \"PC3\": pca_result[:, 2],\n",
    "    \"Label\": labels\n",
    "})\n",
    "fig_pca = px.scatter_3d(pca_df, x=\"PC1\", y=\"PC2\", z=\"PC3\", color=\"Label\", hover_name=\"Label\", title=\"Interactive  3D PCA\")\n",
    "fig_pca.show()"
   ]
  },
  {
   "cell_type": "code",
   "execution_count": 35,
   "id": "3c3644d6",
   "metadata": {},
   "outputs": [
    {
     "data": {
      "application/vnd.plotly.v1+json": {
       "config": {
        "plotlyServerURL": "https://plot.ly"
       },
       "data": [
        {
         "hovertemplate": "<b>%{hovertext}</b><br><br>UMAP1=%{x}<br>UMAP2=%{y}<br>UMAP3=%{z}<br>Label=%{marker.color}<extra></extra>",
         "hovertext": {
          "bdata": "AAAAAAAAGEAAAAAAAAAYQAAAAAAAAAhAAAAAAAAACEAAAAAAAAAQQAAAAAAAABRAAAAAAAAA8D8AAAAAAAAYQAAAAAAAAPA/AAAAAAAAGEAAAAAAAAAIQAAAAAAAABhAAAAAAAAACEAAAAAAAADwPwAAAAAAAAAAAAAAAAAAEEAAAAAAAAAUQAAAAAAAAAAAAAAAAAAACEAAAAAAAAAQQAAAAAAAAAhAAAAAAAAACEAAAAAAAAAAQAAAAAAAABBAAAAAAAAAGEAAAAAAAAAIQAAAAAAAABRAAAAAAAAAEEAAAAAAAAAUQAAAAAAAAPA/AAAAAAAACEAAAAAAAAAIQAAAAAAAAAhAAAAAAAAAGEAAAAAAAAAIQAAAAAAAAAAAAAAAAAAAEEAAAAAAAAAIQAAAAAAAABBAAAAAAAAA8D8AAAAAAAAYQAAAAAAAAAhAAAAAAAAAFEAAAAAAAAAQQAAAAAAAAAhAAAAAAAAAFEAAAAAAAAAQQAAAAAAAAABAAAAAAAAAFEAAAAAAAAAIQAAAAAAAABRAAAAAAAAAFEAAAAAAAAAYQAAAAAAAABBAAAAAAAAAFEAAAAAAAAAUQAAAAAAAABBAAAAAAAAAEEAAAAAAAADwPwAAAAAAABBAAAAAAAAAGEAAAAAAAAAUQAAAAAAAAAhAAAAAAAAAFEAAAAAAAAAAAAAAAAAAAAhAAAAAAAAA8D8AAAAAAAAYQAAAAAAAABBAAAAAAAAAFEAAAAAAAAAYQAAAAAAAABhAAAAAAAAAGEAAAAAAAAAIQAAAAAAAABhAAAAAAAAACEAAAAAAAAAIQAAAAAAAABRAAAAAAAAAAAAAAAAAAAAYQAAAAAAAABBAAAAAAAAAEEAAAAAAAAAAAAAAAAAAABBAAAAAAAAAFEAAAAAAAAAIQAAAAAAAAAAAAAAAAAAAFEAAAAAAAAAUQAAAAAAAABBAAAAAAAAAFEAAAAAAAAAIQAAAAAAAABRAAAAAAAAACEAAAAAAAAAYQAAAAAAAABhAAAAAAAAAAAAAAAAAAAAQQAAAAAAAABBAAAAAAAAACEAAAAAAAAAIQAAAAAAAABBAAAAAAAAACEAAAAAAAAAUQAAAAAAAABBAAAAAAAAAEEAAAAAAAAAIQAAAAAAAAPA/AAAAAAAACEAAAAAAAAAIQAAAAAAAAAhAAAAAAAAA8D8AAAAAAAAYQAAAAAAAABhAAAAAAAAACEAAAAAAAAAYQAAAAAAAABRAAAAAAAAAAAAAAAAAAAAYQAAAAAAAAAhAAAAAAAAAGEAAAAAAAAAYQAAAAAAAABRAAAAAAAAAEEA=",
          "dtype": "f8"
         },
         "legendgroup": "",
         "marker": {
          "color": {
           "bdata": "BgYDAwQFAQYBBgMGAwEABAUAAwQDAwIEBgMFBAUBAwMDBgMABAMEAQYDBQQDBQQCBQMFBQYEBQUEBAEEBgUDBQADAQYEBQYGBgMGAwMFAAYEBAAEBQMABQUEBQMFAwYGAAQEAwMEAwUEBAMBAwMDAQYGAwYFAAYDBgYFBA==",
           "dtype": "i1"
          },
          "coloraxis": "coloraxis",
          "symbol": "circle"
         },
         "mode": "markers",
         "name": "",
         "scene": "scene",
         "showlegend": false,
         "type": "scatter3d",
         "x": {
          "bdata": "mH/fv2dtkL9bVB5A554iQKc97T6MrQrAgvcHQD87xL+71SVAVWIIv/tbBkBx8yu/VrERQAqeBkArMFnAKMFQvuKt7r8Eu2DA+igWQM7Oe76JOgdAk6cUQO7vJUDA3VK/J0nav3ua6z8goiHACYW4vpLVIsAMHw5AGhUeQCodDEC24w9A6JPEv+rq6T+ZNmvAaxPMveUHCEANvXo+MfoJQGG5hb9oge8/Y/j4vwrzG0A6Ef4/xUXgv4x9DD+kZB1A1MwxwFk9LkBTZ9S/lZhpv+r3bb+LAyS/mKAuwL6tD8DQ/Jk8yycxPryiD0BvF7s+JNy2v5fwHcAZVAlA5cfzv2qWZsDIMCRA4VYNQBAYNb/dapQ+340UwECVl7+o/3q/kyPGvxJM/j8DDYi/LkEkQGpaBEDaiRDA5oN0wFRlob9Pw1s/S6Y6v4ygaMDukvM+DnQEwDMm/T+05XHAg3A3wNuH978ngWo+2T8zwBByE0DtU/e/iT8mQGfml79ri9m/DvJnwNt3nj7a9kI/8o4BQDjGCECh7zk/CioVvfg2PMBomTs/1R3mP6HiFEDh1iJAMYgEQBMX/z8JLAJAJRwyQH1Ugr/myGm/5IQYQHtRbr/t0fy/kcNxwOo/Hr/9n+U/vVnkvtMdir9XaUjAwSj8vg==",
          "dtype": "f4"
         },
         "y": {
          "bdata": "QIcMQZC7AkFuzUi/72GNv3AN3UDexRNBVicCwJzEBkHCfAPACcj0QJFM17/L/PhA3AuYv4oq+78uvhxBiiTrQAYdEUGMFBtB3Pnbvw5T6kC+8Fi/FyKNvzYMFMDwuvpAbC4KQQcKRL+MRhRBlITvQIQRFUE1mxvAw0rAv86Ok7+DPJu/2rsFQcPVk79a+h1BYePpQBuDyb5tcuJA5YUPwEoTBEFTbpq+avUMQUWYpr5Ush6/IeENQf0y20BeixrA8+4QQXs7H7/1AglB4R0MQdV3AEF+OPNAlWwUQY8pDUGKC+pAWmHVQCt+CMBRMdpA7/IDQYGfDkHssuW9cMYJQfN4IkF0Xxi/YbUGwCooCEEVg+NAUDUNQcil+UCt3wtBoxEFQVlGsr9niwJBmXX8vmRl1r+rYQpBhzckQe5fCkGbCdxACe38QKCaI0FuodtANB0PQZsWkb2HqiBB4QkSQVs1D0HHXtlAepkQQR4War9uRAtBjyXGv68i/UDsEwpBz70fQYDK3UDtw9xA1tyYPWyGgb8NKuNA62jVQAZkFEGICeNAsXZCv2dIJr+F0A7AVCeevtnsbb9dDsO/t7AAwL4PBUGdhfVA7iDXv4JEAUHYVwxBIOQgQWX08UDakY2/xUrwQAOlBUEYWxVBQqzyQA==",
          "dtype": "f4"
         },
         "z": {
          "bdata": "Sy7dQKkc9kBQ+ZVAvYqNQHWWt0CuUfhAD5O2QBWW5EBZardAGQDzQLbGr0CgWABBekSAQILRvUBYdAdB5JfbQBDX+UDxGAlBtzmNQCcf0kBGNm9AzSikQDeHsEDywN9AKInVQC/ClkDu4gFB2SvMQKVxBkGyPrFA3Ll7QPx9hUD+nnNAlsLfQLWdhUBH+QpBppvCQOq7h0AZ98hAFxO0QNOd7EDI5IxAzm7+QHQdjkDz6XVAZD7iQB0MtUBaF7JAU4AIQUJLh0C2ffZAcPDtQLCo60Dm6dtAU+MBQSuT6EAWmr5AKlPLQOJ7vECvwsFAJf/bQDIYA0HHNo5AQBIDQQt1BUGJyY9AvV27QNLc6kBLC7tAe0H1QMyo6UCzx+ZAoswAQTU1e0CUFtlA7sx/QDCChEBua/5A8yQJQcQ960AUFMdAM9TRQHhZB0EwmLpAAf4AQcOrhEAaBwVBFYQIQRBu3UDBmM9AfhUCQbDHnECBLQVBkEyGQGffAEGQbNRAX2AKQfx2ukDt28RA9JyLQL/zjkD1ocBA8JfXQIquBEGM1rpAt2KPQJlRckAdIKpAWNGXQI68aUAJqotAn5yrQHEO4UAZnflAuxOFQPon80BubthAUUgHQeU//0AC+4xAs5f6QGeMA0FtSgdB5Y7QQA==",
          "dtype": "f4"
         }
        }
       ],
       "layout": {
        "coloraxis": {
         "colorbar": {
          "title": {
           "text": "Label"
          }
         },
         "colorscale": [
          [
           0,
           "#0d0887"
          ],
          [
           0.1111111111111111,
           "#46039f"
          ],
          [
           0.2222222222222222,
           "#7201a8"
          ],
          [
           0.3333333333333333,
           "#9c179e"
          ],
          [
           0.4444444444444444,
           "#bd3786"
          ],
          [
           0.5555555555555556,
           "#d8576b"
          ],
          [
           0.6666666666666666,
           "#ed7953"
          ],
          [
           0.7777777777777778,
           "#fb9f3a"
          ],
          [
           0.8888888888888888,
           "#fdca26"
          ],
          [
           1,
           "#f0f921"
          ]
         ]
        },
        "legend": {
         "tracegroupgap": 0
        },
        "scene": {
         "domain": {
          "x": [
           0,
           1
          ],
          "y": [
           0,
           1
          ]
         },
         "xaxis": {
          "title": {
           "text": "UMAP1"
          }
         },
         "yaxis": {
          "title": {
           "text": "UMAP2"
          }
         },
         "zaxis": {
          "title": {
           "text": "UMAP3"
          }
         }
        },
        "template": {
         "data": {
          "bar": [
           {
            "error_x": {
             "color": "#2a3f5f"
            },
            "error_y": {
             "color": "#2a3f5f"
            },
            "marker": {
             "line": {
              "color": "#E5ECF6",
              "width": 0.5
             },
             "pattern": {
              "fillmode": "overlay",
              "size": 10,
              "solidity": 0.2
             }
            },
            "type": "bar"
           }
          ],
          "barpolar": [
           {
            "marker": {
             "line": {
              "color": "#E5ECF6",
              "width": 0.5
             },
             "pattern": {
              "fillmode": "overlay",
              "size": 10,
              "solidity": 0.2
             }
            },
            "type": "barpolar"
           }
          ],
          "carpet": [
           {
            "aaxis": {
             "endlinecolor": "#2a3f5f",
             "gridcolor": "white",
             "linecolor": "white",
             "minorgridcolor": "white",
             "startlinecolor": "#2a3f5f"
            },
            "baxis": {
             "endlinecolor": "#2a3f5f",
             "gridcolor": "white",
             "linecolor": "white",
             "minorgridcolor": "white",
             "startlinecolor": "#2a3f5f"
            },
            "type": "carpet"
           }
          ],
          "choropleth": [
           {
            "colorbar": {
             "outlinewidth": 0,
             "ticks": ""
            },
            "type": "choropleth"
           }
          ],
          "contour": [
           {
            "colorbar": {
             "outlinewidth": 0,
             "ticks": ""
            },
            "colorscale": [
             [
              0,
              "#0d0887"
             ],
             [
              0.1111111111111111,
              "#46039f"
             ],
             [
              0.2222222222222222,
              "#7201a8"
             ],
             [
              0.3333333333333333,
              "#9c179e"
             ],
             [
              0.4444444444444444,
              "#bd3786"
             ],
             [
              0.5555555555555556,
              "#d8576b"
             ],
             [
              0.6666666666666666,
              "#ed7953"
             ],
             [
              0.7777777777777778,
              "#fb9f3a"
             ],
             [
              0.8888888888888888,
              "#fdca26"
             ],
             [
              1,
              "#f0f921"
             ]
            ],
            "type": "contour"
           }
          ],
          "contourcarpet": [
           {
            "colorbar": {
             "outlinewidth": 0,
             "ticks": ""
            },
            "type": "contourcarpet"
           }
          ],
          "heatmap": [
           {
            "colorbar": {
             "outlinewidth": 0,
             "ticks": ""
            },
            "colorscale": [
             [
              0,
              "#0d0887"
             ],
             [
              0.1111111111111111,
              "#46039f"
             ],
             [
              0.2222222222222222,
              "#7201a8"
             ],
             [
              0.3333333333333333,
              "#9c179e"
             ],
             [
              0.4444444444444444,
              "#bd3786"
             ],
             [
              0.5555555555555556,
              "#d8576b"
             ],
             [
              0.6666666666666666,
              "#ed7953"
             ],
             [
              0.7777777777777778,
              "#fb9f3a"
             ],
             [
              0.8888888888888888,
              "#fdca26"
             ],
             [
              1,
              "#f0f921"
             ]
            ],
            "type": "heatmap"
           }
          ],
          "histogram": [
           {
            "marker": {
             "pattern": {
              "fillmode": "overlay",
              "size": 10,
              "solidity": 0.2
             }
            },
            "type": "histogram"
           }
          ],
          "histogram2d": [
           {
            "colorbar": {
             "outlinewidth": 0,
             "ticks": ""
            },
            "colorscale": [
             [
              0,
              "#0d0887"
             ],
             [
              0.1111111111111111,
              "#46039f"
             ],
             [
              0.2222222222222222,
              "#7201a8"
             ],
             [
              0.3333333333333333,
              "#9c179e"
             ],
             [
              0.4444444444444444,
              "#bd3786"
             ],
             [
              0.5555555555555556,
              "#d8576b"
             ],
             [
              0.6666666666666666,
              "#ed7953"
             ],
             [
              0.7777777777777778,
              "#fb9f3a"
             ],
             [
              0.8888888888888888,
              "#fdca26"
             ],
             [
              1,
              "#f0f921"
             ]
            ],
            "type": "histogram2d"
           }
          ],
          "histogram2dcontour": [
           {
            "colorbar": {
             "outlinewidth": 0,
             "ticks": ""
            },
            "colorscale": [
             [
              0,
              "#0d0887"
             ],
             [
              0.1111111111111111,
              "#46039f"
             ],
             [
              0.2222222222222222,
              "#7201a8"
             ],
             [
              0.3333333333333333,
              "#9c179e"
             ],
             [
              0.4444444444444444,
              "#bd3786"
             ],
             [
              0.5555555555555556,
              "#d8576b"
             ],
             [
              0.6666666666666666,
              "#ed7953"
             ],
             [
              0.7777777777777778,
              "#fb9f3a"
             ],
             [
              0.8888888888888888,
              "#fdca26"
             ],
             [
              1,
              "#f0f921"
             ]
            ],
            "type": "histogram2dcontour"
           }
          ],
          "mesh3d": [
           {
            "colorbar": {
             "outlinewidth": 0,
             "ticks": ""
            },
            "type": "mesh3d"
           }
          ],
          "parcoords": [
           {
            "line": {
             "colorbar": {
              "outlinewidth": 0,
              "ticks": ""
             }
            },
            "type": "parcoords"
           }
          ],
          "pie": [
           {
            "automargin": true,
            "type": "pie"
           }
          ],
          "scatter": [
           {
            "fillpattern": {
             "fillmode": "overlay",
             "size": 10,
             "solidity": 0.2
            },
            "type": "scatter"
           }
          ],
          "scatter3d": [
           {
            "line": {
             "colorbar": {
              "outlinewidth": 0,
              "ticks": ""
             }
            },
            "marker": {
             "colorbar": {
              "outlinewidth": 0,
              "ticks": ""
             }
            },
            "type": "scatter3d"
           }
          ],
          "scattercarpet": [
           {
            "marker": {
             "colorbar": {
              "outlinewidth": 0,
              "ticks": ""
             }
            },
            "type": "scattercarpet"
           }
          ],
          "scattergeo": [
           {
            "marker": {
             "colorbar": {
              "outlinewidth": 0,
              "ticks": ""
             }
            },
            "type": "scattergeo"
           }
          ],
          "scattergl": [
           {
            "marker": {
             "colorbar": {
              "outlinewidth": 0,
              "ticks": ""
             }
            },
            "type": "scattergl"
           }
          ],
          "scattermap": [
           {
            "marker": {
             "colorbar": {
              "outlinewidth": 0,
              "ticks": ""
             }
            },
            "type": "scattermap"
           }
          ],
          "scattermapbox": [
           {
            "marker": {
             "colorbar": {
              "outlinewidth": 0,
              "ticks": ""
             }
            },
            "type": "scattermapbox"
           }
          ],
          "scatterpolar": [
           {
            "marker": {
             "colorbar": {
              "outlinewidth": 0,
              "ticks": ""
             }
            },
            "type": "scatterpolar"
           }
          ],
          "scatterpolargl": [
           {
            "marker": {
             "colorbar": {
              "outlinewidth": 0,
              "ticks": ""
             }
            },
            "type": "scatterpolargl"
           }
          ],
          "scatterternary": [
           {
            "marker": {
             "colorbar": {
              "outlinewidth": 0,
              "ticks": ""
             }
            },
            "type": "scatterternary"
           }
          ],
          "surface": [
           {
            "colorbar": {
             "outlinewidth": 0,
             "ticks": ""
            },
            "colorscale": [
             [
              0,
              "#0d0887"
             ],
             [
              0.1111111111111111,
              "#46039f"
             ],
             [
              0.2222222222222222,
              "#7201a8"
             ],
             [
              0.3333333333333333,
              "#9c179e"
             ],
             [
              0.4444444444444444,
              "#bd3786"
             ],
             [
              0.5555555555555556,
              "#d8576b"
             ],
             [
              0.6666666666666666,
              "#ed7953"
             ],
             [
              0.7777777777777778,
              "#fb9f3a"
             ],
             [
              0.8888888888888888,
              "#fdca26"
             ],
             [
              1,
              "#f0f921"
             ]
            ],
            "type": "surface"
           }
          ],
          "table": [
           {
            "cells": {
             "fill": {
              "color": "#EBF0F8"
             },
             "line": {
              "color": "white"
             }
            },
            "header": {
             "fill": {
              "color": "#C8D4E3"
             },
             "line": {
              "color": "white"
             }
            },
            "type": "table"
           }
          ]
         },
         "layout": {
          "annotationdefaults": {
           "arrowcolor": "#2a3f5f",
           "arrowhead": 0,
           "arrowwidth": 1
          },
          "autotypenumbers": "strict",
          "coloraxis": {
           "colorbar": {
            "outlinewidth": 0,
            "ticks": ""
           }
          },
          "colorscale": {
           "diverging": [
            [
             0,
             "#8e0152"
            ],
            [
             0.1,
             "#c51b7d"
            ],
            [
             0.2,
             "#de77ae"
            ],
            [
             0.3,
             "#f1b6da"
            ],
            [
             0.4,
             "#fde0ef"
            ],
            [
             0.5,
             "#f7f7f7"
            ],
            [
             0.6,
             "#e6f5d0"
            ],
            [
             0.7,
             "#b8e186"
            ],
            [
             0.8,
             "#7fbc41"
            ],
            [
             0.9,
             "#4d9221"
            ],
            [
             1,
             "#276419"
            ]
           ],
           "sequential": [
            [
             0,
             "#0d0887"
            ],
            [
             0.1111111111111111,
             "#46039f"
            ],
            [
             0.2222222222222222,
             "#7201a8"
            ],
            [
             0.3333333333333333,
             "#9c179e"
            ],
            [
             0.4444444444444444,
             "#bd3786"
            ],
            [
             0.5555555555555556,
             "#d8576b"
            ],
            [
             0.6666666666666666,
             "#ed7953"
            ],
            [
             0.7777777777777778,
             "#fb9f3a"
            ],
            [
             0.8888888888888888,
             "#fdca26"
            ],
            [
             1,
             "#f0f921"
            ]
           ],
           "sequentialminus": [
            [
             0,
             "#0d0887"
            ],
            [
             0.1111111111111111,
             "#46039f"
            ],
            [
             0.2222222222222222,
             "#7201a8"
            ],
            [
             0.3333333333333333,
             "#9c179e"
            ],
            [
             0.4444444444444444,
             "#bd3786"
            ],
            [
             0.5555555555555556,
             "#d8576b"
            ],
            [
             0.6666666666666666,
             "#ed7953"
            ],
            [
             0.7777777777777778,
             "#fb9f3a"
            ],
            [
             0.8888888888888888,
             "#fdca26"
            ],
            [
             1,
             "#f0f921"
            ]
           ]
          },
          "colorway": [
           "#636efa",
           "#EF553B",
           "#00cc96",
           "#ab63fa",
           "#FFA15A",
           "#19d3f3",
           "#FF6692",
           "#B6E880",
           "#FF97FF",
           "#FECB52"
          ],
          "font": {
           "color": "#2a3f5f"
          },
          "geo": {
           "bgcolor": "white",
           "lakecolor": "white",
           "landcolor": "#E5ECF6",
           "showlakes": true,
           "showland": true,
           "subunitcolor": "white"
          },
          "hoverlabel": {
           "align": "left"
          },
          "hovermode": "closest",
          "mapbox": {
           "style": "light"
          },
          "paper_bgcolor": "white",
          "plot_bgcolor": "#E5ECF6",
          "polar": {
           "angularaxis": {
            "gridcolor": "white",
            "linecolor": "white",
            "ticks": ""
           },
           "bgcolor": "#E5ECF6",
           "radialaxis": {
            "gridcolor": "white",
            "linecolor": "white",
            "ticks": ""
           }
          },
          "scene": {
           "xaxis": {
            "backgroundcolor": "#E5ECF6",
            "gridcolor": "white",
            "gridwidth": 2,
            "linecolor": "white",
            "showbackground": true,
            "ticks": "",
            "zerolinecolor": "white"
           },
           "yaxis": {
            "backgroundcolor": "#E5ECF6",
            "gridcolor": "white",
            "gridwidth": 2,
            "linecolor": "white",
            "showbackground": true,
            "ticks": "",
            "zerolinecolor": "white"
           },
           "zaxis": {
            "backgroundcolor": "#E5ECF6",
            "gridcolor": "white",
            "gridwidth": 2,
            "linecolor": "white",
            "showbackground": true,
            "ticks": "",
            "zerolinecolor": "white"
           }
          },
          "shapedefaults": {
           "line": {
            "color": "#2a3f5f"
           }
          },
          "ternary": {
           "aaxis": {
            "gridcolor": "white",
            "linecolor": "white",
            "ticks": ""
           },
           "baxis": {
            "gridcolor": "white",
            "linecolor": "white",
            "ticks": ""
           },
           "bgcolor": "#E5ECF6",
           "caxis": {
            "gridcolor": "white",
            "linecolor": "white",
            "ticks": ""
           }
          },
          "title": {
           "x": 0.05
          },
          "xaxis": {
           "automargin": true,
           "gridcolor": "white",
           "linecolor": "white",
           "ticks": "",
           "title": {
            "standoff": 15
           },
           "zerolinecolor": "white",
           "zerolinewidth": 2
          },
          "yaxis": {
           "automargin": true,
           "gridcolor": "white",
           "linecolor": "white",
           "ticks": "",
           "title": {
            "standoff": 15
           },
           "zerolinecolor": "white",
           "zerolinewidth": 2
          }
         }
        },
        "title": {
         "text": "Interactive 3D UMAP"
        }
       }
      }
     },
     "metadata": {},
     "output_type": "display_data"
    }
   ],
   "source": [
    "# UMAP interactive 3D plot\n",
    "reducer = umap.UMAP(n_components=3)\n",
    "\n",
    "umap_result = reducer.fit_transform(X_scaled_imputed)\n",
    "\n",
    "umap_df = pd.DataFrame({\n",
    "    \"UMAP1\": umap_result[:, 0],\n",
    "    \"UMAP2\": umap_result[:, 1],\n",
    "    \"UMAP3\": umap_result[:, 2],\n",
    "    \"Label\": labels\n",
    "})\n",
    "fig_umap = px.scatter_3d(umap_df, x=\"UMAP1\", y=\"UMAP2\", z=\"UMAP3\", color=\"Label\", hover_name=\"Label\", title=\"Interactive 3D UMAP\")\n",
    "fig_umap.show()"
   ]
  },
  {
   "cell_type": "code",
   "execution_count": 36,
   "id": "05777b46",
   "metadata": {},
   "outputs": [
    {
     "name": "stdout",
     "output_type": "stream",
     "text": [
      "[0.27413801 0.38148787 0.4627942  0.50719628 0.54151568 0.57329144\n",
      " 0.5974266  0.61956716 0.64122162 0.65857281 0.67536832 0.69141439\n",
      " 0.70639125 0.71953494 0.73212399 0.74435952 0.75546746 0.76551231\n",
      " 0.77546844 0.78534672 0.79495376 0.80385751 0.81233448 0.82038363\n",
      " 0.82834698 0.8357743  0.84272896 0.84953037 0.8560915  0.86228144\n",
      " 0.86839957 0.87417965 0.87988458 0.88546819 0.89079563 0.89591595\n",
      " 0.90078637 0.90564501 0.91019012 0.91460931 0.91870449 0.92273379\n",
      " 0.92635295 0.92991285 0.93346814 0.93680408 0.9400576  0.94316011\n",
      " 0.94607118 0.94895365 0.95163297 0.95426292 0.95679117 0.9591929\n",
      " 0.96143099 0.96363532 0.96575154 0.96780407 0.96968852 0.9714981\n",
      " 0.97327702 0.97490018 0.97650622 0.97805553 0.97950376 0.98085594\n",
      " 0.98218285 0.98339045 0.98451368 0.98552936 0.98650355 0.98745411\n",
      " 0.98839273 0.98924903 0.99009431 0.99089404 0.99167116 0.99232919\n",
      " 0.99294529 0.99353132 0.99409133 0.9946071  0.99508903 0.99552713\n",
      " 0.99594777 0.99634102 0.99671801 0.9970715  0.99739784 0.99769206\n",
      " 0.99793608 0.99815856 0.99837408 0.99856826 0.99875154 0.99891539\n",
      " 0.99906828 0.99919715 0.99931201 0.99941974 0.99951594 0.99959523\n",
      " 0.99966327 0.9997216  0.99977461 0.9998239  0.99985763 0.99988822\n",
      " 0.99991497 0.99993823 0.99995558 0.99996978 0.9999804  0.9999891\n",
      " 0.99999339 0.99999692 0.99999882 0.99999987 1.        ]\n",
      "Number of principal components to reach 90% cumulative explained variance: 13\n"
     ]
    },
    {
     "data": {
      "image/png": "[encoded data removed]",
      "text/plain": [
       "<Figure size 800x500 with 1 Axes>"
      ]
     },
     "metadata": {},
     "output_type": "display_data"
    }
   ],
   "source": [
    "# Find the number of principal components needed to reach 90% cumulative explained variance\n",
    "pca = PCA()\n",
    "pca.fit(X_scaled_imputed)\n",
    "explained_variance = pca.explained_variance_ratio_\n",
    "cumulative_variance = explained_variance.cumsum()\n",
    "\n",
    "print(cumulative_variance)\n",
    "\n",
    "threshold = 0.7\n",
    "num_components_90 = np.argmax(cumulative_variance >= threshold) + 1\n",
    "print(f\"Number of principal components to reach 90% cumulative explained variance: {num_components_90}\")\n",
    "\n",
    "plt.figure(figsize=(8, 5))\n",
    "plt.plot(range(1, len(cumulative_variance) + 1), cumulative_variance, marker='o')\n",
    "plt.xlabel('Number of Principal Components')\n",
    "plt.ylabel('Cumulative Explained Variance')\n",
    "plt.title('Cumulative Explained Variance by Number of Principal Components')\n",
    "plt.grid(True)\n",
    "plt.show()"
   ]
  },
  {
   "cell_type": "code",
   "execution_count": 37,
   "id": "1e196d9e",
   "metadata": {},
   "outputs": [
    {
     "data": {
      "image/png": "[encoded data removed]",
      "text/plain": [
       "<Figure size 2500x500 with 5 Axes>"
      ]
     },
     "metadata": {},
     "output_type": "display_data"
    }
   ],
   "source": [
    "# PCA and UMAP: Collage of 2D PCA plots for first 10 components\n",
    "pca = PCA(n_components=10)\n",
    "\n",
    "pca_result = pca.fit_transform(X_scaled_imputed)\n",
    "\n",
    "fig, axes = plt.subplots(1, 5, figsize=(25, 5))\n",
    "for i in range(5):\n",
    "    ax = axes[i]\n",
    "    pc_x = i * 2\n",
    "    pc_y = i * 2 + 1\n",
    "    ax.scatter(pca_result[:, pc_x], pca_result[:, pc_y], c=labels, cmap='tab10', alpha=0.7)\n",
    "    ax.set_xlabel(f'PC{pc_x+1}')\n",
    "    ax.set_ylabel(f'PC{pc_y+1}')\n",
    "    ax.set_title(f'PC{pc_x+1} vs PC{pc_y+1}')\n",
    "plt.suptitle('Collage of 2D PCA Plots (PC1-10)')\n",
    "plt.tight_layout(rect=[0, 0.03, 1, 0.95])\n",
    "plt.show()"
   ]
  },
  {
   "cell_type": "code",
   "execution_count": 38,
   "id": "9e3b9d80",
   "metadata": {},
   "outputs": [
    {
     "data": {
      "image/png": "[encoded data removed]",
      "text/plain": [
       "<Figure size 640x480 with 1 Axes>"
      ]
     },
     "metadata": {},
     "output_type": "display_data"
    }
   ],
   "source": [
    "#Identify groups not based on the labels\n",
    "kmeans = KMeans(n_clusters=7)\n",
    "labels = kmeans.fit_predict(X_scaled_imputed)\n",
    "sns.scatterplot(x=pca_result[:,0], y=pca_result[:,1], hue=labels)\n",
    "plt.title(\"KMeans Clustering on UMAP\")\n",
    "plt.show()"
   ]
  }
 ],
 "metadata": {
  "kernelspec": {
   "display_name": "env (3.13.4)",
   "language": "python",
   "name": "python3"
  },
  "language_info": {
   "codemirror_mode": {
    "name": "ipython",
    "version": 3
   },
   "file_extension": ".py",
   "mimetype": "text/x-python",
   "name": "python",
   "nbconvert_exporter": "python",
   "pygments_lexer": "ipython3",
   "version": "3.13.4"
  }
 },
 "nbformat": 4,
 "nbformat_minor": 5
}
